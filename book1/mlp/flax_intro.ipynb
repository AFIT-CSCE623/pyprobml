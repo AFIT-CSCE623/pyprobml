{
  "nbformat": 4,
  "nbformat_minor": 0,
  "metadata": {
    "colab": {
      "name": "flax_intro.ipynb",
      "provenance": [],
      "collapsed_sections": [],
      "toc_visible": true,
      "authorship_tag": "ABX9TyMQpILOuTVDHnie6tYa4BLX",
      "include_colab_link": true
    },
    "kernelspec": {
      "name": "python3",
      "display_name": "Python 3"
    },
    "widgets": {
      "application/vnd.jupyter.widget-state+json": {
        "d7f80b4703ea49f68156b9a2d2340692": {
          "model_module": "@jupyter-widgets/controls",
          "model_name": "HBoxModel",
          "state": {
            "_view_name": "HBoxView",
            "_dom_classes": [],
            "_model_name": "HBoxModel",
            "_view_module": "@jupyter-widgets/controls",
            "_model_module_version": "1.5.0",
            "_view_count": null,
            "_view_module_version": "1.5.0",
            "box_style": "",
            "layout": "IPY_MODEL_e0a4d052d22a4d47b516b95c8ac3acc5",
            "_model_module": "@jupyter-widgets/controls",
            "children": [
              "IPY_MODEL_a157229195ab41d18d8d937d8750f800",
              "IPY_MODEL_b8db32e87d7140ae93665d859f71e3c5"
            ]
          }
        },
        "e0a4d052d22a4d47b516b95c8ac3acc5": {
          "model_module": "@jupyter-widgets/base",
          "model_name": "LayoutModel",
          "state": {
            "_view_name": "LayoutView",
            "grid_template_rows": null,
            "right": null,
            "justify_content": null,
            "_view_module": "@jupyter-widgets/base",
            "overflow": null,
            "_model_module_version": "1.2.0",
            "_view_count": null,
            "flex_flow": null,
            "width": null,
            "min_width": null,
            "border": null,
            "align_items": null,
            "bottom": null,
            "_model_module": "@jupyter-widgets/base",
            "top": null,
            "grid_column": null,
            "overflow_y": null,
            "overflow_x": null,
            "grid_auto_flow": null,
            "grid_area": null,
            "grid_template_columns": null,
            "flex": null,
            "_model_name": "LayoutModel",
            "justify_items": null,
            "grid_row": null,
            "max_height": null,
            "align_content": null,
            "visibility": null,
            "align_self": null,
            "height": null,
            "min_height": null,
            "padding": null,
            "grid_auto_rows": null,
            "grid_gap": null,
            "max_width": null,
            "order": null,
            "_view_module_version": "1.2.0",
            "grid_template_areas": null,
            "object_position": null,
            "object_fit": null,
            "grid_auto_columns": null,
            "margin": null,
            "display": null,
            "left": null
          }
        },
        "a157229195ab41d18d8d937d8750f800": {
          "model_module": "@jupyter-widgets/controls",
          "model_name": "FloatProgressModel",
          "state": {
            "_view_name": "ProgressView",
            "style": "IPY_MODEL_f41bf22b33b3424c9acaf2f2fe5102a0",
            "_dom_classes": [],
            "description": "Dl Completed...: 100%",
            "_model_name": "FloatProgressModel",
            "bar_style": "success",
            "max": 4,
            "_view_module": "@jupyter-widgets/controls",
            "_model_module_version": "1.5.0",
            "value": 4,
            "_view_count": null,
            "_view_module_version": "1.5.0",
            "orientation": "horizontal",
            "min": 0,
            "description_tooltip": null,
            "_model_module": "@jupyter-widgets/controls",
            "layout": "IPY_MODEL_e6d5accc6bfd406a9364bf2aff28af70"
          }
        },
        "b8db32e87d7140ae93665d859f71e3c5": {
          "model_module": "@jupyter-widgets/controls",
          "model_name": "HTMLModel",
          "state": {
            "_view_name": "HTMLView",
            "style": "IPY_MODEL_fde4e6bb53824791801dbbe6e804019e",
            "_dom_classes": [],
            "description": "",
            "_model_name": "HTMLModel",
            "placeholder": "​",
            "_view_module": "@jupyter-widgets/controls",
            "_model_module_version": "1.5.0",
            "value": " 4/4 [00:01&lt;00:00,  2.03 file/s]",
            "_view_count": null,
            "_view_module_version": "1.5.0",
            "description_tooltip": null,
            "_model_module": "@jupyter-widgets/controls",
            "layout": "IPY_MODEL_f1525b505268487a996471820838d64b"
          }
        },
        "f41bf22b33b3424c9acaf2f2fe5102a0": {
          "model_module": "@jupyter-widgets/controls",
          "model_name": "ProgressStyleModel",
          "state": {
            "_view_name": "StyleView",
            "_model_name": "ProgressStyleModel",
            "description_width": "initial",
            "_view_module": "@jupyter-widgets/base",
            "_model_module_version": "1.5.0",
            "_view_count": null,
            "_view_module_version": "1.2.0",
            "bar_color": null,
            "_model_module": "@jupyter-widgets/controls"
          }
        },
        "e6d5accc6bfd406a9364bf2aff28af70": {
          "model_module": "@jupyter-widgets/base",
          "model_name": "LayoutModel",
          "state": {
            "_view_name": "LayoutView",
            "grid_template_rows": null,
            "right": null,
            "justify_content": null,
            "_view_module": "@jupyter-widgets/base",
            "overflow": null,
            "_model_module_version": "1.2.0",
            "_view_count": null,
            "flex_flow": null,
            "width": null,
            "min_width": null,
            "border": null,
            "align_items": null,
            "bottom": null,
            "_model_module": "@jupyter-widgets/base",
            "top": null,
            "grid_column": null,
            "overflow_y": null,
            "overflow_x": null,
            "grid_auto_flow": null,
            "grid_area": null,
            "grid_template_columns": null,
            "flex": null,
            "_model_name": "LayoutModel",
            "justify_items": null,
            "grid_row": null,
            "max_height": null,
            "align_content": null,
            "visibility": null,
            "align_self": null,
            "height": null,
            "min_height": null,
            "padding": null,
            "grid_auto_rows": null,
            "grid_gap": null,
            "max_width": null,
            "order": null,
            "_view_module_version": "1.2.0",
            "grid_template_areas": null,
            "object_position": null,
            "object_fit": null,
            "grid_auto_columns": null,
            "margin": null,
            "display": null,
            "left": null
          }
        },
        "fde4e6bb53824791801dbbe6e804019e": {
          "model_module": "@jupyter-widgets/controls",
          "model_name": "DescriptionStyleModel",
          "state": {
            "_view_name": "StyleView",
            "_model_name": "DescriptionStyleModel",
            "description_width": "",
            "_view_module": "@jupyter-widgets/base",
            "_model_module_version": "1.5.0",
            "_view_count": null,
            "_view_module_version": "1.2.0",
            "_model_module": "@jupyter-widgets/controls"
          }
        },
        "f1525b505268487a996471820838d64b": {
          "model_module": "@jupyter-widgets/base",
          "model_name": "LayoutModel",
          "state": {
            "_view_name": "LayoutView",
            "grid_template_rows": null,
            "right": null,
            "justify_content": null,
            "_view_module": "@jupyter-widgets/base",
            "overflow": null,
            "_model_module_version": "1.2.0",
            "_view_count": null,
            "flex_flow": null,
            "width": null,
            "min_width": null,
            "border": null,
            "align_items": null,
            "bottom": null,
            "_model_module": "@jupyter-widgets/base",
            "top": null,
            "grid_column": null,
            "overflow_y": null,
            "overflow_x": null,
            "grid_auto_flow": null,
            "grid_area": null,
            "grid_template_columns": null,
            "flex": null,
            "_model_name": "LayoutModel",
            "justify_items": null,
            "grid_row": null,
            "max_height": null,
            "align_content": null,
            "visibility": null,
            "align_self": null,
            "height": null,
            "min_height": null,
            "padding": null,
            "grid_auto_rows": null,
            "grid_gap": null,
            "max_width": null,
            "order": null,
            "_view_module_version": "1.2.0",
            "grid_template_areas": null,
            "object_position": null,
            "object_fit": null,
            "grid_auto_columns": null,
            "margin": null,
            "display": null,
            "left": null
          }
        }
      }
    }
  },
  "cells": [
    {
      "cell_type": "markdown",
      "metadata": {
        "id": "view-in-github",
        "colab_type": "text"
      },
      "source": [
        "<a href=\"https://colab.research.google.com/github/probml/pyprobml/blob/master/book1/mlp/flax_intro.ipynb\" target=\"_parent\"><img src=\"https://colab.research.google.com/assets/colab-badge.svg\" alt=\"Open In Colab\"/></a>"
      ]
    },
    {
      "cell_type": "markdown",
      "metadata": {
        "id": "rF208fIxvq8m"
      },
      "source": [
        "# Introduction to neural networks using Flax\n",
        "\n",
        "\n",
        "\n",
        "Flax / Linen is a neural net library, built on top of JAX, \"designed to offer an implicit variable management API to save the user from having to manually thread thousands of variables through a complex tree of functions.\" To handle both current and future JAX transforms (configured and composed in any way), Linen Modules are defined as explicit functions of the form\n",
        "$$\n",
        "f(v_{in}, x) \\rightarrow v_{out}, y\n",
        "$$\n",
        "Where $v_{in}$ is the collection of variables (eg. parameters) and PRNG state used by the model, $v_{out}$ the mutated output variable collections, $x$ the input data and $y$ the output data. We illustrate this below. Our tutorial is based on the official [flax intro](https://flax.readthedocs.io/en/latest/notebooks/flax_basics.html) and [linen colab](https://github.com/google/flax/blob/master/docs/notebooks/linen_intro.ipynb). Details are in the [flax source code](https://flax.readthedocs.io/en/latest/_modules/index.html). Note: please be sure to read our [JAX tutorial](https://github.com/probml/pyprobml/blob/master/book1/intro/jax_intro.ipynb) first.\n"
      ]
    },
    {
      "cell_type": "code",
      "metadata": {
        "id": "uRAzAXYXvztz"
      },
      "source": [
        "import numpy as np\n",
        "#np.set_printoptions(precision=3)\n",
        "np.set_printoptions(formatter={'float': lambda x: \"{0:0.5f}\".format(x)})\n",
        "\n",
        "import matplotlib.pyplot as plt\n",
        "\n",
        "import pandas as pd\n",
        "pd.set_option('precision', 2) # 2 decimal places\n",
        "pd.set_option('display.max_rows', 20)\n",
        "pd.set_option('display.max_columns', 30)\n",
        "pd.set_option('display.width', 100) # wide windows"
      ],
      "execution_count": 1,
      "outputs": []
    },
    {
      "cell_type": "code",
      "metadata": {
        "colab": {
          "base_uri": "https://localhost:8080/"
        },
        "id": "1ob8P9ALvkcM",
        "outputId": "573415d3-eba0-4d6a-e51a-674aea067217"
      },
      "source": [
        "# Install the latest JAXlib version.\n",
        "!pip install --upgrade -q pip jax jaxlib"
      ],
      "execution_count": null,
      "outputs": [
        {
          "output_type": "stream",
          "text": [
            "\u001b[K     |████████████████████████████████| 34.0 MB 115 kB/s \n",
            "\u001b[?25h"
          ],
          "name": "stdout"
        }
      ]
    },
    {
      "cell_type": "code",
      "metadata": {
        "id": "68kI74E1vvEI",
        "colab": {
          "base_uri": "https://localhost:8080/"
        },
        "outputId": "c59c7062-040c-4307-ad17-f582a336569d"
      },
      "source": [
        "import jax\n",
        "from typing import Any, Callable, Dict, Iterator, Mapping, Optional, Sequence, Tuple\n",
        "from jax import lax, random, numpy as jnp\n",
        "key = random.PRNGKey(0)\n"
      ],
      "execution_count": 2,
      "outputs": [
        {
          "output_type": "stream",
          "text": [
            "WARNING:absl:No GPU/TPU found, falling back to CPU. (Set TF_CPP_MIN_LOG_LEVEL=0 and rerun for more info.)\n"
          ],
          "name": "stderr"
        }
      ]
    },
    {
      "cell_type": "code",
      "metadata": {
        "id": "N3dXu6XY6U0H"
      },
      "source": [
        "# Useful type aliases\n",
        "\n",
        "Array = jnp.ndarray\n",
        "PRNGKey = Array\n",
        "Batch = Mapping[str, np.ndarray]\n",
        "OptState = Any"
      ],
      "execution_count": 3,
      "outputs": []
    },
    {
      "cell_type": "code",
      "metadata": {
        "colab": {
          "base_uri": "https://localhost:8080/"
        },
        "id": "7pcNcE9_Qj_l",
        "outputId": "df0077d8-93cf-4153-c0c6-9d98e780b2be"
      },
      "source": [
        "# Install Flax at head:\n",
        "!pip install --upgrade -q git+https://github.com/google/flax.git"
      ],
      "execution_count": 4,
      "outputs": [
        {
          "output_type": "stream",
          "text": [
            "  Building wheel for flax (setup.py) ... \u001b[?25l\u001b[?25hdone\n"
          ],
          "name": "stdout"
        }
      ]
    },
    {
      "cell_type": "code",
      "metadata": {
        "id": "s80k9sonQfDi"
      },
      "source": [
        "import flax\n",
        "from flax.core import freeze, unfreeze\n",
        "from flax import linen as nn\n",
        "from flax import optim\n",
        "\n",
        "from jax.config import config\n",
        "config.enable_omnistaging() # Linen requires enabling omnistaging"
      ],
      "execution_count": 5,
      "outputs": []
    },
    {
      "cell_type": "markdown",
      "metadata": {
        "id": "aGrUFJYxjyL7"
      },
      "source": [
        "# MLP in vanilla JAX\n",
        "\n",
        "We construct a simple MLP with L hidden layers (relu activation), and scalar output (linear activation).\n",
        "\n",
        "Note: JAX and Flax, like NumPy, are row-based systems, meaning that vectors are represented as row vectors and not column vectors. \n"
      ]
    },
    {
      "cell_type": "code",
      "metadata": {
        "id": "mWQGVJMP0VMB"
      },
      "source": [
        "# We define the parameter initializers using a signature that is flax-compatible\n",
        "# https://flax.readthedocs.io/en/latest/_modules/jax/_src/nn/initializers.html\n",
        "\n",
        "def weights_init(key, shape, dtype=jnp.float32):\n",
        "  return random.normal(key, shape, dtype)\n",
        "  #return jnp.ones(shape, dtype)\n",
        "\n",
        "def bias_init(key, shape, dtype=jnp.float32):\n",
        "  return jnp.zeros(shape, dtype)\n",
        "\n",
        "def relu(a):\n",
        "  return jnp.maximum(a, 0)"
      ],
      "execution_count": null,
      "outputs": []
    },
    {
      "cell_type": "code",
      "metadata": {
        "id": "GepkhhTh-9b-"
      },
      "source": [
        "# A minimal MLP class\n",
        "\n",
        "class MLP0():\n",
        "  features: Sequence[int] # number of features in each layer\n",
        "\n",
        "  def __init__(self, features): # class constructor\n",
        "    self.features = features\n",
        "\n",
        "  def init(self, key, x): # initialize parameters\n",
        "    in_size = np.shape(x)[1]\n",
        "    sizes = np.concatenate( ([in_size], self.features) )\n",
        "    nlayers = len(sizes)\n",
        "    params = {}\n",
        "    for i in range(nlayers-1):\n",
        "      in_size = sizes[i]\n",
        "      out_size = sizes[i+1]\n",
        "      subkey1, subkey2, key = random.split(key, num=3)\n",
        "      W = weights_init(subkey1, (in_size, out_size) )\n",
        "      b = bias_init(subkey2, out_size)\n",
        "      params[f'W{i}'] = W\n",
        "      params[f'b{i}'] = b\n",
        "    return params\n",
        "\n",
        "  def apply(self, params, x): # forwards pass\n",
        "    activations = x\n",
        "    nhidden_layers = len(self.features)-1\n",
        "    for i in range(nhidden_layers):\n",
        "      W = params[f'W{i}']; b = params[f'b{i}'];\n",
        "      outputs = jnp.dot(activations, W) + b\n",
        "      activations = relu(outputs)\n",
        "    # for final layer, no activation function\n",
        "    i = nhidden_layers\n",
        "    outputs = jnp.dot(activations, params[f'W{i}']) + params[f'b{i}']\n",
        "    return outputs\n",
        "\n"
      ],
      "execution_count": null,
      "outputs": []
    },
    {
      "cell_type": "code",
      "metadata": {
        "colab": {
          "base_uri": "https://localhost:8080/"
        },
        "id": "8jFS4SNO0V_I",
        "outputId": "c9ea7bcd-9f31-48f5-be7e-aec6d11a265f"
      },
      "source": [
        "key = random.PRNGKey(0)\n",
        "D = 3\n",
        "N = 2\n",
        "x = random.normal(key, (N,D,))\n",
        "layer_sizes = [3,1] # 1 hidden layer of size 3, 1 scalar output\n",
        "\n",
        "\n",
        "model0 = MLP0(layer_sizes)\n",
        "params0 = model0.init(key, x)\n",
        "\n",
        "print('params')\n",
        "for k,v in params0.items():\n",
        "  print(k, v.shape)\n",
        "  print(v)\n",
        "\n",
        "y0 = model0.apply(params0, x)\n",
        "print('\\noutput')\n",
        "print(y0)"
      ],
      "execution_count": null,
      "outputs": [
        {
          "output_type": "stream",
          "text": [
            "params\n",
            "W0 (3, 3)\n",
            "[[-1.83021 1.18417 0.06777]\n",
            " [0.34588 0.37858 -0.65318]\n",
            " [0.18976 0.45157 -0.33964]]\n",
            "b0 (3,)\n",
            "[0.00000 0.00000 0.00000]\n",
            "W1 (3, 1)\n",
            "[[-1.74905]\n",
            " [1.83313]\n",
            " [-0.23808]]\n",
            "b1 (1,)\n",
            "[0.00000]\n",
            "\n",
            "output\n",
            "[[-0.09538]\n",
            " [2.78382]]\n"
          ],
          "name": "stdout"
        }
      ]
    },
    {
      "cell_type": "markdown",
      "metadata": {
        "id": "rBtPT-drBkGA"
      },
      "source": [
        "# Our first flax model\n",
        "\n",
        "Here we recreate the vanilla model in flax. Since we don't specify how the parameters are initialized, the behavior will not be identical to the vanilla model --- we will fix this below, but for now, we focus on model construction.\n",
        "\n",
        "We see that the model is a subclass of `nn.Module`, which is a subclass of Python's dataclass. The child class (written by the user) must define a `model.call(inputs)` method, that applies the function to the input, and a `model.setup()` method, that creates the modules inside this model.\n",
        "\n",
        "The module (parent) class defines two main methods: `model.apply(variables, input`, that applies the function to the input (and variables) to generate an output; and `model.init(key, input)`, that initializes the variables and returns them as a \"frozen dictionary\". This dictionary can contain multiple *kinds* of variables. In the example below, the only kind are parameters, which are immutable variables (that will usually get updated in an external optimization loop, as we show later). The parameters are  automatically named after the corresponding module (here, dense0, dense1, etc).  In this example, both modules are dense layers, so their parameters are a weight matrix (called 'kernel') and a bias vector.\n",
        "\n",
        "The hyper-parameters (in this case, the size of each layer) are stored as attributes of the class, and are specified when the module is constructed."
      ]
    },
    {
      "cell_type": "code",
      "metadata": {
        "id": "3zueDo1r0Qav"
      },
      "source": [
        "class MLP(nn.Module):\n",
        "  features: Sequence[int]\n",
        "  default_attr: int = 42\n",
        "\n",
        "  def setup(self):\n",
        "    print('setup')\n",
        "    self.layers = [nn.Dense(feat) for feat in self.features]\n",
        "\n",
        "  def __call__(self, inputs):\n",
        "    print('call')\n",
        "    x = inputs\n",
        "    for i, lyr in enumerate(self.layers):\n",
        "      x = lyr(x)\n",
        "      if i != len(self.layers) - 1:\n",
        "        x = nn.relu(x)\n",
        "    return x\n",
        "\n"
      ],
      "execution_count": 8,
      "outputs": []
    },
    {
      "cell_type": "code",
      "metadata": {
        "colab": {
          "base_uri": "https://localhost:8080/"
        },
        "id": "OoYDn8lX7_ZH",
        "outputId": "c3b9c07a-b5df-4788-af9a-6fb72b52a537"
      },
      "source": [
        "key = random.PRNGKey(0)\n",
        "D = 3\n",
        "N = 2\n",
        "x = random.normal(key, (N,D,))\n",
        "layer_sizes = [3,1] # 1 hidden layer of size 3, 1 scalar output\n",
        "\n",
        "print('calling constructor')\n",
        "model = MLP(layer_sizes) # just initialize attributes of the object\n",
        "print('OUTPUT')\n",
        "print(model)\n",
        "\n",
        "print('\\ncalling init')\n",
        "variables = model.init(key, x)  # calls setup then __call___\n",
        "print('OUTPUT')\n",
        "print(variables)\n",
        "\n",
        "print('\\nW0')\n",
        "W0 = variables['params']['layers_0']['kernel']\n",
        "print(W0)\n",
        "\n",
        "print('Calling apply')\n",
        "y = model.apply(variables, x) # calls setup then __call___\n",
        "print(y)"
      ],
      "execution_count": 9,
      "outputs": [
        {
          "output_type": "stream",
          "text": [
            "calling constructor\n",
            "OUTPUT\n",
            "MLP(\n",
            "    # attributes\n",
            "    features = [3, 1]\n",
            "    default_attr = 42\n",
            ")\n",
            "\n",
            "calling init\n",
            "setup\n",
            "call\n",
            "OUTPUT\n",
            "FrozenDict({\n",
            "    params: {\n",
            "        layers_0: {\n",
            "            kernel: DeviceArray([[0.57725, 0.43926, 0.69045],\n",
            "                         [0.02542, 0.50461, 0.56675],\n",
            "                         [0.07185, 0.17350, -0.04227]], dtype=float32),\n",
            "            bias: DeviceArray([0.00000, 0.00000, 0.00000], dtype=float32),\n",
            "        },\n",
            "        layers_1: {\n",
            "            kernel: DeviceArray([[0.24313],\n",
            "                         [0.94535],\n",
            "                         [-0.12602]], dtype=float32),\n",
            "            bias: DeviceArray([0.00000], dtype=float32),\n",
            "        },\n",
            "    },\n",
            "})\n",
            "\n",
            "W0\n",
            "[[0.57725 0.43926 0.69045]\n",
            " [0.02542 0.50461 0.56675]\n",
            " [0.07185 0.17350 -0.04227]]\n",
            "Calling apply\n",
            "setup\n",
            "call\n",
            "[[0.02978]\n",
            " [0.66403]]\n"
          ],
          "name": "stdout"
        }
      ]
    },
    {
      "cell_type": "markdown",
      "metadata": {
        "id": "5lwM1j1WksDG"
      },
      "source": [
        "# Compact modules\n",
        "\n",
        "To reduce the amount of boiler plate code, flax makes it possible to define a module just by writing the `call` method, avoiding the need to write a `setup` function. The corresponding layers will be created when the `init` funciton is called, so the input shape can be inferred lazily (when passed an input). "
      ]
    },
    {
      "cell_type": "code",
      "metadata": {
        "colab": {
          "base_uri": "https://localhost:8080/"
        },
        "id": "Akq_iXXdktwb",
        "outputId": "1e9e80e3-9bdf-4653-bd7d-7266bd1424b5"
      },
      "source": [
        "class MLP(nn.Module):\n",
        "  features: Sequence[int]\n",
        "\n",
        "  @nn.compact\n",
        "  def __call__(self, inputs):\n",
        "    x = inputs\n",
        "    for i, feat in enumerate(self.features):\n",
        "      x = nn.Dense(feat)(x)\n",
        "      if i != len(self.features) - 1:\n",
        "        x = nn.relu(x)\n",
        "    return x\n",
        "\n",
        "\n",
        "model = MLP(layer_sizes)\n",
        "print(model)\n",
        "\n",
        "params = model.init(key, x)\n",
        "print(params)\n",
        "\n",
        "y = model.apply(params, x)\n",
        "print(y)"
      ],
      "execution_count": null,
      "outputs": [
        {
          "output_type": "stream",
          "text": [
            "MLP(\n",
            "    # attributes\n",
            "    features = [3, 1]\n",
            ")\n",
            "FrozenDict({\n",
            "    params: {\n",
            "        Dense_0: {\n",
            "            kernel: DeviceArray([[0.28216, 1.03322, 0.07901],\n",
            "                         [0.15159, -0.50100, -0.22373],\n",
            "                         [-0.40327, -0.39875, -0.09402]], dtype=float32),\n",
            "            bias: DeviceArray([0.00000, 0.00000, 0.00000], dtype=float32),\n",
            "        },\n",
            "        Dense_1: {\n",
            "            kernel: DeviceArray([[0.25432],\n",
            "                         [0.76792],\n",
            "                         [0.48329]], dtype=float32),\n",
            "            bias: DeviceArray([0.00000], dtype=float32),\n",
            "        },\n",
            "    },\n",
            "})\n",
            "[[0.56035]\n",
            " [1.07065]]\n"
          ],
          "name": "stdout"
        }
      ]
    },
    {
      "cell_type": "markdown",
      "metadata": {
        "id": "dNiuZ54yB7Gj"
      },
      "source": [
        "# Explicit parameter initialization\n",
        "\n",
        "We can control the initialization of the random parameters in each submodule by specifying an init function. Below we show how to initialize our MLP to match the vanilla JAX model. We then check both methods give the same outputs."
      ]
    },
    {
      "cell_type": "code",
      "metadata": {
        "colab": {
          "base_uri": "https://localhost:8080/"
        },
        "id": "5W_lEFsU4t04",
        "outputId": "f44c742a-c919-4fd3-9fa9-b659c246f102"
      },
      "source": [
        "def make_const_init(x):\n",
        "  def init_params(key, shape, dtype=jnp.float32):\n",
        "    return x\n",
        "  return init_params\n",
        "\n",
        "class MLP_init(nn.Module):\n",
        "  features: Sequence[int]\n",
        "  params_init: Dict\n",
        "\n",
        "  def setup(self):\n",
        "    nlayers = len(self.features)\n",
        "    layers = []\n",
        "    for i in range(nlayers):\n",
        "      W = self.params_init[f'W{i}'];\n",
        "      b = self.params_init[f'b{i}']; \n",
        "      weights_init = make_const_init(W)\n",
        "      bias_init = make_const_init(b)\n",
        "      layer = nn.Dense(self.features[i], kernel_init=weights_init, bias_init=bias_init)\n",
        "      layers.append(layer)\n",
        "    self.layers = layers\n",
        "\n",
        "  def __call__(self, inputs):\n",
        "    x = inputs\n",
        "    for i, lyr in enumerate(self.layers):\n",
        "      x = lyr(x)\n",
        "      if i != len(self.layers) - 1:\n",
        "        x = nn.relu(x)\n",
        "    return x\n",
        "\n",
        "params_init = params0\n",
        "model = MLP_init(layer_sizes, params_init)\n",
        "print(model)\n",
        "\n",
        "params = model.init(key, x)\n",
        "print(params)\n",
        "\n",
        "y = model.apply(params, x)\n",
        "print(y)\n",
        "\n",
        "assert np.allclose(y, y0)"
      ],
      "execution_count": null,
      "outputs": [
        {
          "output_type": "stream",
          "text": [
            "MLP_init(\n",
            "    # attributes\n",
            "    features = [3, 1]\n",
            "    params_init = {'W0': DeviceArray([[-1.83021, 1.18417, 0.06777],\n",
            "                 [0.34588, 0.37858, -0.65318],\n",
            "                 [0.18976, 0.45157, -0.33964]], dtype=float32), 'b0': DeviceArray([0.00000, 0.00000, 0.00000], dtype=float32), 'W1': DeviceArray([[-1.74905],\n",
            "                 [1.83313],\n",
            "                 [-0.23808]], dtype=float32), 'b1': DeviceArray([0.00000], dtype=float32)}\n",
            ")\n",
            "FrozenDict({\n",
            "    params: {\n",
            "        layers_0: {\n",
            "            kernel: DeviceArray([[-1.83021, 1.18417, 0.06777],\n",
            "                         [0.34588, 0.37858, -0.65318],\n",
            "                         [0.18976, 0.45157, -0.33964]], dtype=float32),\n",
            "            bias: DeviceArray([0.00000, 0.00000, 0.00000], dtype=float32),\n",
            "        },\n",
            "        layers_1: {\n",
            "            kernel: DeviceArray([[-1.74905],\n",
            "                         [1.83313],\n",
            "                         [-0.23808]], dtype=float32),\n",
            "            bias: DeviceArray([0.00000], dtype=float32),\n",
            "        },\n",
            "    },\n",
            "})\n",
            "[[-0.09538]\n",
            " [2.78382]]\n"
          ],
          "name": "stdout"
        }
      ]
    },
    {
      "cell_type": "markdown",
      "metadata": {
        "id": "63YD32Ty-iiD"
      },
      "source": [
        "# Nested modules\n",
        "\n",
        "We can embed an MLP inside an MLP."
      ]
    },
    {
      "cell_type": "code",
      "metadata": {
        "colab": {
          "base_uri": "https://localhost:8080/"
        },
        "id": "IwjaFly4-qeZ",
        "outputId": "597cf45a-e98b-4e7b-f08c-7946db5e2dfe"
      },
      "source": [
        "class MLP_nested(nn.Module):\n",
        "    features_nested: Sequence[int]\n",
        "    features_output: int\n",
        "\n",
        "    def setup(self):\n",
        "      self.mlp = MLP(self.features_nested)\n",
        "      self.output_layer = nn.Dense(self.features_output)\n",
        "\n",
        "    def __call__(self, x):\n",
        "      return self.output_layer(nn.relu(self.mlp(x)))\n",
        "\n",
        "\n",
        "model = MLP_nested([3,4], 1)\n",
        "print(model)\n",
        "\n",
        "params = model.init(key, x)\n",
        "print(params)\n",
        "\n",
        "y = model.apply(params, x)\n",
        "print(y)\n"
      ],
      "execution_count": null,
      "outputs": [
        {
          "output_type": "stream",
          "text": [
            "MLP_nested(\n",
            "    # attributes\n",
            "    features_nested = [3, 4]\n",
            "    features_output = 1\n",
            ")\n",
            "FrozenDict({\n",
            "    params: {\n",
            "        mlp: {\n",
            "            Dense_0: {\n",
            "                kernel: DeviceArray([[-0.63572, 0.33321, 0.62651],\n",
            "                             [-0.17779, 0.22005, 0.74431],\n",
            "                             [-0.97726, -0.47203, 0.43659]], dtype=float32),\n",
            "                bias: DeviceArray([0.00000, 0.00000, 0.00000], dtype=float32),\n",
            "            },\n",
            "            Dense_1: {\n",
            "                kernel: DeviceArray([[0.22112, 0.87654, 0.22310, -1.22264],\n",
            "                             [-0.32240, 0.94956, -0.04660, 0.39572],\n",
            "                             [-0.03547, -0.75176, 0.35311, 0.59318]], dtype=float32),\n",
            "                bias: DeviceArray([0.00000, 0.00000, 0.00000, 0.00000], dtype=float32),\n",
            "            },\n",
            "        },\n",
            "        output_layer: {\n",
            "            kernel: DeviceArray([[0.08588],\n",
            "                         [0.64215],\n",
            "                         [-0.46796],\n",
            "                         [-0.10338]], dtype=float32),\n",
            "            bias: DeviceArray([0.00000], dtype=float32),\n",
            "        },\n",
            "    },\n",
            "})\n",
            "[[0.00000]\n",
            " [-0.21694]]\n"
          ],
          "name": "stdout"
        }
      ]
    },
    {
      "cell_type": "markdown",
      "metadata": {
        "id": "AuL88xCopD3J"
      },
      "source": [
        "We can also use the compact notation. The resulting parameters have slightly different names, and random initial values. (They can be made the same, of course.)"
      ]
    },
    {
      "cell_type": "code",
      "metadata": {
        "colab": {
          "base_uri": "https://localhost:8080/"
        },
        "id": "BeY9Jx9NreXm",
        "outputId": "65559e99-0fce-4df6-9e07-be24302c8c6c"
      },
      "source": [
        "class MLP_nested(nn.Module):\n",
        "    features_nested: Sequence[int]\n",
        "    features_output: int\n",
        "\n",
        "    @nn.compact\n",
        "    def __call__(self, x):\n",
        "      mlp = MLP(self.features_nested, name=\"my_nested_MLP\")\n",
        "      dense = nn.Dense(self.features_output)\n",
        "      return dense(nn.relu(mlp(x)))\n",
        "\n",
        "model = MLP_nested([3,4], 1)\n",
        "\n",
        "params = model.init(key, x)\n",
        "print(params)\n",
        "\n",
        "y = model.apply(params, x)\n",
        "print(y)"
      ],
      "execution_count": null,
      "outputs": [
        {
          "output_type": "stream",
          "text": [
            "FrozenDict({\n",
            "    params: {\n",
            "        my_nested_MLP: {\n",
            "            Dense_0: {\n",
            "                kernel: DeviceArray([[-0.22084, -0.04334, -0.92993],\n",
            "                             [-0.42234, 0.45470, -0.09518],\n",
            "                             [0.86117, 0.10712, 0.50940]], dtype=float32),\n",
            "                bias: DeviceArray([0.00000, 0.00000, 0.00000], dtype=float32),\n",
            "            },\n",
            "            Dense_1: {\n",
            "                kernel: DeviceArray([[-0.17214, -0.46445, 0.01060, -0.84916],\n",
            "                             [0.56824, 0.08029, 0.90197, -0.04891],\n",
            "                             [0.65304, 0.74382, 0.71842, 0.96025]], dtype=float32),\n",
            "                bias: DeviceArray([0.00000, 0.00000, 0.00000, 0.00000], dtype=float32),\n",
            "            },\n",
            "        },\n",
            "        Dense_0: {\n",
            "            kernel: DeviceArray([[0.88803],\n",
            "                         [-0.85732],\n",
            "                         [0.13939],\n",
            "                         [0.10748]], dtype=float32),\n",
            "            bias: DeviceArray([0.00000], dtype=float32),\n",
            "        },\n",
            "    },\n",
            "})\n",
            "[[0.02943]\n",
            " [0.02495]]\n"
          ],
          "name": "stdout"
        }
      ]
    },
    {
      "cell_type": "markdown",
      "metadata": {
        "id": "Rf8avaA_nGJ1"
      },
      "source": [
        "# Creating modules with parameters\n",
        "\n",
        "Now we illustrate how to create a module with its own parameters, instead of relying on composing built-in primitives. As an example, we write our own dense layer class."
      ]
    },
    {
      "cell_type": "code",
      "metadata": {
        "colab": {
          "base_uri": "https://localhost:8080/"
        },
        "id": "WUJ98XpSnS8F",
        "outputId": "0238844e-3954-4591-943c-8072597f61d1"
      },
      "source": [
        "class SimpleDense(nn.Module):\n",
        "  features: int # num output features for this layer\n",
        "  kernel_init: Callable = nn.initializers.lecun_normal()\n",
        "  bias_init: Callable = nn.initializers.zeros\n",
        "\n",
        "  @nn.compact\n",
        "  def __call__(self, inputs):\n",
        "    features_in = inputs.shape[-1] # infer shape from input\n",
        "    features_out = self.features\n",
        "    kernel = self.param('kernel', self.kernel_init, (features_in, features_out))\n",
        "    bias = self.param('bias', self.bias_init, (features_out,))\n",
        "    outputs = jnp.dot(inputs, kernel) + bias\n",
        "    return outputs\n",
        "\n",
        "\n",
        "model = SimpleDense(features=3)\n",
        "print(model)\n",
        "\n",
        "params = model.init(key, x)\n",
        "print(params)\n",
        "\n",
        "y = model.apply(params, x)\n",
        "print(y)"
      ],
      "execution_count": null,
      "outputs": [
        {
          "output_type": "stream",
          "text": [
            "SimpleDense(\n",
            "    # attributes\n",
            "    features = 3\n",
            "    kernel_init = init\n",
            "    bias_init = zeros\n",
            ")\n",
            "FrozenDict({\n",
            "    params: {\n",
            "        kernel: DeviceArray([[0.32718, 0.05599, 0.17998],\n",
            "                     [-0.12295, 0.70712, 0.28972],\n",
            "                     [0.13731, -0.02853, -0.62830]], dtype=float32),\n",
            "        bias: DeviceArray([0.00000, 0.00000, 0.00000], dtype=float32),\n",
            "    },\n",
            "})\n",
            "[[0.30842 -0.91549 -0.74603]\n",
            " [0.36248 0.24616 0.36943]]\n"
          ],
          "name": "stdout"
        }
      ]
    },
    {
      "cell_type": "markdown",
      "metadata": {
        "id": "BJpBh933-GTW"
      },
      "source": [
        "# Stochastic layers\n",
        "\n",
        "Some layers may need a source of randomness. If so, we must pass them a PRNG in the `init` and `apply` functions, in addition to the PRNG used for parameter initialization. We illustrate this below using dropout. We construct two versions, one which is stochastic (for training), and one which is deterministic (for evaluation). "
      ]
    },
    {
      "cell_type": "code",
      "metadata": {
        "colab": {
          "base_uri": "https://localhost:8080/"
        },
        "id": "tMSpLucO-Yfj",
        "outputId": "9726f1f3-ca25-4946-f9da-29692b1b034c"
      },
      "source": [
        "class Block(nn.Module):\n",
        "  features: int\n",
        "  training: bool\n",
        "  @nn.compact\n",
        "  def __call__(self, inputs):\n",
        "    x = nn.Dense(self.features)(inputs)\n",
        "    x = nn.Dropout(rate=0.5)(x, deterministic=not self.training)\n",
        "    return x\n",
        "\n",
        "N = 1; D = 2;\n",
        "x = random.uniform(key, (N,D))\n",
        "\n",
        "model = Block(features=3, training=True)\n",
        "key = random.PRNGKey(0)\n",
        "variables = model.init({'params': key, 'dropout': key}, x)\n",
        "#variables = model.init(key, x) # cannot share the rng\n",
        "print('variables', variables)\n",
        "\n",
        "# Apply stochastic model\n",
        "for i in range(2):\n",
        "  key, subkey = random.split(key)\n",
        "  y = model.apply(variables, x, rngs={'dropout': subkey})\n",
        "  print(f'train output {i}, ', y)\n",
        "\n",
        "# Now make a deterministic version\n",
        "eval_model = Block(features=3, training=False)\n",
        "key = random.PRNGKey(0)\n",
        "#variables = eval_model.init({'params': key, 'dropout': key}, x)\n",
        "for i in range(2):\n",
        "  key, subkey = random.split(key)\n",
        "  y = eval_model.apply(variables, x, rngs={'dropout': subkey})\n",
        "  print(f'eval output {i}, ', y)\n",
        "\n"
      ],
      "execution_count": null,
      "outputs": [
        {
          "output_type": "stream",
          "text": [
            "variables FrozenDict({\n",
            "    params: {\n",
            "        Dense_0: {\n",
            "            kernel: DeviceArray([[0.99988, -0.14086, -0.99796],\n",
            "                         [1.46673, 0.59637, 0.38263]], dtype=float32),\n",
            "            bias: DeviceArray([0.00000, 0.00000, 0.00000], dtype=float32),\n",
            "        },\n",
            "    },\n",
            "})\n",
            "train output 0,  [[0.00000 1.05814 0.00000]]\n",
            "train output 1,  [[3.12202 1.05814 0.32862]]\n",
            "eval output 0,  [[1.56101 0.52907 0.16431]]\n",
            "eval output 1,  [[1.56101 0.52907 0.16431]]\n"
          ],
          "name": "stdout"
        }
      ]
    },
    {
      "cell_type": "markdown",
      "metadata": {
        "id": "CHieB2aAumdg"
      },
      "source": [
        "# Mutable variables\n",
        "\n",
        "In addition to parameters, linen modules can contain other kinds of variables, which may be mutable as we illustrate below.\n",
        "Indeed, parameters are just a special case of variable.\n",
        "In particular, this line\n",
        "```\n",
        "p = self.param('param_name', init_fn, shape, dtype)\n",
        "```\n",
        "is a convenient shorthand for this:\n",
        "```\n",
        "p = self.variable('params', 'param_name', lambda s, d: init_fn(self.make_rng('params'), s, d), shape, dtype).value\n",
        "```\n"
      ]
    },
    {
      "cell_type": "markdown",
      "metadata": {
        "id": "EAQxx2Tu8xln"
      },
      "source": [
        "## Example: counter"
      ]
    },
    {
      "cell_type": "code",
      "metadata": {
        "colab": {
          "base_uri": "https://localhost:8080/"
        },
        "id": "BeGNa8zaut41",
        "outputId": "eb8923e0-ed62-46f9-f11b-80dec053e31a"
      },
      "source": [
        "class Counter(nn.Module):\n",
        "  @nn.compact\n",
        "  def __call__(self):\n",
        "    # variable(collection, name, init_fn, *init_args)\n",
        "    counter1 = self.variable('counter', 'count1', lambda: jnp.zeros((), jnp.int32))\n",
        "    counter2 = self.variable('counter', 'count2', lambda: jnp.zeros((), jnp.int32))\n",
        "    is_initialized = self.has_variable('counter', 'count1')\n",
        "    if is_initialized:\n",
        "      counter1.value += 1\n",
        "      counter2.value += 2\n",
        "    return counter1.value, counter2.value\n",
        "\n",
        "\n",
        "model = Counter()\n",
        "print(model)\n",
        "\n",
        "init_variables = model.init(key) # calls the `call` method\n",
        "print('initialized variables:\\n', init_variables)\n",
        "counter = init_variables['counter']['count1']\n",
        "print('counter 1 value', counter)\n",
        "\n",
        "y, mutated_variables = model.apply(init_variables, mutable=['counter'])\n",
        "print('mutated variables:\\n', mutated_variables)\n",
        "print('output:\\n', y)"
      ],
      "execution_count": null,
      "outputs": [
        {
          "output_type": "stream",
          "text": [
            "Counter()\n",
            "initialized variables:\n",
            " FrozenDict({\n",
            "    counter: {\n",
            "        count1: DeviceArray(1, dtype=int32),\n",
            "        count2: DeviceArray(2, dtype=int32),\n",
            "    },\n",
            "})\n",
            "counter 1 value 1\n",
            "mutated variables:\n",
            " FrozenDict({\n",
            "    counter: {\n",
            "        count1: DeviceArray(2, dtype=int32),\n",
            "        count2: DeviceArray(4, dtype=int32),\n",
            "    },\n",
            "})\n",
            "output:\n",
            " (DeviceArray(2, dtype=int32), DeviceArray(4, dtype=int32))\n"
          ],
          "name": "stdout"
        }
      ]
    },
    {
      "cell_type": "markdown",
      "metadata": {
        "id": "1IaC2RT1v65t"
      },
      "source": [
        "## Combining mutable variables and immutable parameters\n",
        "\n",
        "We can combine mutable variables with immutable parameters.\n",
        "As an example, consider a simplified version of batch normalization, which \n",
        " computes the running mean of its inputs, and adds an optimzable offset (bias) term. \n",
        "\n"
      ]
    },
    {
      "cell_type": "code",
      "metadata": {
        "id": "NXP19telv_Y_"
      },
      "source": [
        "class BiasAdderWithRunningMean(nn.Module):\n",
        "  decay: float = 0.99\n",
        "\n",
        "  @nn.compact\n",
        "  def __call__(self, x):\n",
        "    is_initialized = self.has_variable('params', 'bias')\n",
        "\n",
        "    # variable(collection, name, init_fn, *init_args)\n",
        "    ra_mean = self.variable('batch_stats', 'mean', lambda s: jnp.zeros(s), x.shape[1:])\n",
        "\n",
        "    dummy_mutable = self.variable('mutables', 'dummy', lambda s: 42, 0)\n",
        "\n",
        "    # param(name, init_fn, *init_args)\n",
        "    bias = self.param('bias', lambda rng, shape: jnp.ones(shape), x.shape[1:]) \n",
        "\n",
        "    if is_initialized:\n",
        "      ra_mean.value = self.decay * ra_mean.value + (1.0 - self.decay) * jnp.mean(x, axis=0, keepdims=True)\n",
        "\n",
        "    return x - ra_mean.value + bias\n",
        "\n"
      ],
      "execution_count": null,
      "outputs": []
    },
    {
      "cell_type": "markdown",
      "metadata": {
        "id": "x_WsMGY8xA_x"
      },
      "source": [
        "\n",
        "The intial variables are:\n",
        "params = (bias=1), batch_stats=(mean=0)\n",
        "\n",
        "If we pass in x=ones(N,D), the  running average becomes\n",
        "$$\n",
        "0.99*0 + (1-0.99)*1 = 0.01\n",
        "$$\n",
        "and the output becomes\n",
        "$$\n",
        "1 - 0.01 + 1 = 1.99\n",
        "$$\n",
        "\n",
        "\n"
      ]
    },
    {
      "cell_type": "code",
      "metadata": {
        "colab": {
          "base_uri": "https://localhost:8080/"
        },
        "id": "dvXKCE8yxiTu",
        "outputId": "4ddb1117-32a0-481d-d8bb-876010d0e821"
      },
      "source": [
        "key = random.PRNGKey(0)\n",
        "N = 2\n",
        "D = 5\n",
        "x = jnp.ones((N,D))\n",
        "model = BiasAdderWithRunningMean()\n",
        "\n",
        "variables = model.init(key, x)\n",
        "print('initial variables:\\n', variables)\n",
        "nonstats, stats = variables.pop('batch_stats')\n",
        "print('nonstats', nonstats)\n",
        "print('stats', stats)\n"
      ],
      "execution_count": null,
      "outputs": [
        {
          "output_type": "stream",
          "text": [
            "initial variables:\n",
            " FrozenDict({\n",
            "    batch_stats: {\n",
            "        mean: DeviceArray([0.00000, 0.00000, 0.00000, 0.00000, 0.00000], dtype=float32),\n",
            "    },\n",
            "    mutables: {\n",
            "        dummy: 42,\n",
            "    },\n",
            "    params: {\n",
            "        bias: DeviceArray([1.00000, 1.00000, 1.00000, 1.00000, 1.00000], dtype=float32),\n",
            "    },\n",
            "})\n",
            "nonstats FrozenDict({\n",
            "    mutables: {\n",
            "        dummy: 42,\n",
            "    },\n",
            "    params: {\n",
            "        bias: DeviceArray([1.00000, 1.00000, 1.00000, 1.00000, 1.00000], dtype=float32),\n",
            "    },\n",
            "})\n",
            "stats FrozenDict({\n",
            "    mean: DeviceArray([0.00000, 0.00000, 0.00000, 0.00000, 0.00000], dtype=float32),\n",
            "})\n"
          ],
          "name": "stdout"
        }
      ]
    },
    {
      "cell_type": "code",
      "metadata": {
        "colab": {
          "base_uri": "https://localhost:8080/"
        },
        "id": "Ytr2_w9U12PT",
        "outputId": "30555a51-9b09-4ef2-8222-98c9b52e4a47"
      },
      "source": [
        "y, mutables = model.apply(variables, x, mutable=['batch_stats'])\n",
        "print('output', y)\n",
        "print('mutables', mutables)"
      ],
      "execution_count": null,
      "outputs": [
        {
          "output_type": "stream",
          "text": [
            "output [[1.99000 1.99000 1.99000 1.99000 1.99000]\n",
            " [1.99000 1.99000 1.99000 1.99000 1.99000]]\n",
            "mutables FrozenDict({\n",
            "    batch_stats: {\n",
            "        mean: DeviceArray([[0.01000, 0.01000, 0.01000, 0.01000, 0.01000]], dtype=float32),\n",
            "    },\n",
            "})\n"
          ],
          "name": "stdout"
        }
      ]
    },
    {
      "cell_type": "markdown",
      "metadata": {
        "id": "B1g2GW3f3B-Z"
      },
      "source": [
        "To call the function with the updated batch stats, we have to stitch together the new mutated state with the old state, as shown below.\n",
        "\n"
      ]
    },
    {
      "cell_type": "code",
      "metadata": {
        "colab": {
          "base_uri": "https://localhost:8080/"
        },
        "id": "cpBb21A72Bdj",
        "outputId": "d5ce7521-90c4-48a0-a180-4f02be5fe5f8"
      },
      "source": [
        "\n",
        "variables = unfreeze(nonstats)\n",
        "print(variables)\n",
        "variables['batch_stats'] = mutables['batch_stats']\n",
        "variables = freeze(variables)\n",
        "print(variables)"
      ],
      "execution_count": null,
      "outputs": [
        {
          "output_type": "stream",
          "text": [
            "{'mutables': {'dummy': 42}, 'params': {'bias': DeviceArray([1.00000, 1.00000, 1.00000, 1.00000, 1.00000], dtype=float32)}}\n",
            "FrozenDict({\n",
            "    mutables: {\n",
            "        dummy: 42,\n",
            "    },\n",
            "    params: {\n",
            "        bias: DeviceArray([1.00000, 1.00000, 1.00000, 1.00000, 1.00000], dtype=float32),\n",
            "    },\n",
            "    batch_stats: {\n",
            "        mean: DeviceArray([[0.01000, 0.01000, 0.01000, 0.01000, 0.01000]], dtype=float32),\n",
            "    },\n",
            "})\n"
          ],
          "name": "stdout"
        }
      ]
    },
    {
      "cell_type": "markdown",
      "metadata": {
        "id": "sa7nH74Y5-Lg"
      },
      "source": [
        "If we pass in x=2*ones(N,D), the running average gets updated to\n",
        "$$\n",
        "0.99 * 0.01 + (1-0.99) * 2.0 = 0.0299\n",
        "$$\n",
        "and the output becomes\n",
        "$$\n",
        "2- 0.0299 + 1 = 2.9701\n",
        "$$"
      ]
    },
    {
      "cell_type": "code",
      "metadata": {
        "colab": {
          "base_uri": "https://localhost:8080/"
        },
        "id": "t2dF2si51QN5",
        "outputId": "6177ee1c-41b7-40e6-d954-d0c1c85b0180"
      },
      "source": [
        "\n",
        "x = 2*jnp.ones((N,D))\n",
        "y, mutables = model.apply(variables, x, mutable=['batch_stats'])\n",
        "print('output', y)\n",
        "print('batch_stats', mutables)\n",
        "\n",
        "assert np.allclose(y, 2.9701)\n",
        "assert np.allclose(mutables['batch_stats']['mean'], 0.0299)"
      ],
      "execution_count": null,
      "outputs": [
        {
          "output_type": "stream",
          "text": [
            "output [[2.97010 2.97010 2.97010 2.97010 2.97010]\n",
            " [2.97010 2.97010 2.97010 2.97010 2.97010]]\n",
            "batch_stats FrozenDict({\n",
            "    batch_stats: {\n",
            "        mean: DeviceArray([[0.02990, 0.02990, 0.02990, 0.02990, 0.02990]], dtype=float32),\n",
            "    },\n",
            "})\n"
          ],
          "name": "stdout"
        }
      ]
    },
    {
      "cell_type": "markdown",
      "metadata": {
        "id": "cnBmgGxOoPKU"
      },
      "source": [
        "# Optimization\n",
        "\n",
        "Flax has several built-in (first-order) optimizers, as we illustrate below on a random linear function. (Note that we can also fit a model defined in flax using some other kind of optimizer, such as that provided by the [optax library](https://github.com/deepmind/optax).)"
      ]
    },
    {
      "cell_type": "code",
      "metadata": {
        "colab": {
          "base_uri": "https://localhost:8080/"
        },
        "id": "OTHgj_pMra3H",
        "outputId": "d142c2bb-c725-47e6-8cba-5b55f9f16b48"
      },
      "source": [
        "D = 5\n",
        "key = jax.random.PRNGKey(0)\n",
        "params = {'w': jax.random.normal(key, (D,))}\n",
        "print(params)\n",
        "\n",
        "x = jax.random.normal(key, (D,))\n",
        "\n",
        "def loss(params):\n",
        "  w = params['w']\n",
        "  return jnp.dot(x, w)\n",
        "\n",
        "loss_grad_fn = jax.value_and_grad(loss)\n",
        "v, g = loss_grad_fn(params)\n",
        "print(v)\n",
        "print(g)"
      ],
      "execution_count": null,
      "outputs": [
        {
          "output_type": "stream",
          "text": [
            "{'w': DeviceArray([0.18784, -1.28334, -0.27109, 1.24906, 0.24447], dtype=float32)}\n",
            "3.375659\n",
            "{'w': DeviceArray([0.18784, -1.28334, -0.27109, 1.24906, 0.24447], dtype=float32)}\n"
          ],
          "name": "stdout"
        }
      ]
    },
    {
      "cell_type": "code",
      "metadata": {
        "id": "7KdmBHa8oWFY",
        "colab": {
          "base_uri": "https://localhost:8080/"
        },
        "outputId": "3695c5f5-339c-4e27-d80e-30d100ddae66"
      },
      "source": [
        "from flax import optim\n",
        "optimizer_def = optim.Momentum(learning_rate=0.1, beta=0.9)\n",
        "print(optimizer_def)\n",
        "\n",
        "optimizer = optimizer_def.create(params) \n",
        "print(optimizer)"
      ],
      "execution_count": null,
      "outputs": [
        {
          "output_type": "stream",
          "text": [
            "<flax.optim.momentum.Momentum object at 0x7fbd09abceb8>\n",
            "Optimizer(optimizer_def=<flax.optim.momentum.Momentum object at 0x7fbd09abceb8>, state=OptimizerState(step=DeviceArray(0, dtype=int32), param_states={'w': _MomentumParamState(momentum=DeviceArray([0.00000, 0.00000, 0.00000, 0.00000, 0.00000], dtype=float32))}), target={'w': DeviceArray([0.18784, -1.28334, -0.27109, 1.24906, 0.24447], dtype=float32)})\n"
          ],
          "name": "stdout"
        }
      ]
    },
    {
      "cell_type": "code",
      "metadata": {
        "colab": {
          "base_uri": "https://localhost:8080/"
        },
        "id": "1JpgauX_ox_w",
        "outputId": "c649c61c-93ba-41a0-a834-2c254a53a243"
      },
      "source": [
        "for i in range(10):\n",
        "  params = optimizer.target\n",
        "  loss_val, grad = loss_grad_fn(params)\n",
        "  optimizer = optimizer.apply_gradient(grad)\n",
        "  params = optimizer.target\n",
        "  print('step {}, loss {:0.3f}, params {}'.format(i, loss_val, params))"
      ],
      "execution_count": null,
      "outputs": [
        {
          "output_type": "stream",
          "text": [
            "step 0, loss -10.593, params {'w': DeviceArray([-0.71837, 4.90788, 1.03673, -4.77677, -0.93493], dtype=float32)}\n",
            "step 1, loss -12.910, params {'w': DeviceArray([-0.85316, 5.82877, 1.23126, -5.67306, -1.11035], dtype=float32)}\n",
            "step 2, loss -15.332, params {'w': DeviceArray([-0.99326, 6.78590, 1.43345, -6.60462, -1.29268], dtype=float32)}\n",
            "step 3, loss -17.849, params {'w': DeviceArray([-1.13813, 7.77566, 1.64252, -7.56794, -1.48122], dtype=float32)}\n",
            "step 4, loss -20.453, params {'w': DeviceArray([-1.28730, 8.79477, 1.85780, -8.55983, -1.67536], dtype=float32)}\n",
            "step 5, loss -23.133, params {'w': DeviceArray([-1.44033, 9.84031, 2.07866, -9.57743, -1.87453], dtype=float32)}\n",
            "step 6, loss -25.884, params {'w': DeviceArray([-1.59685, 10.90963, 2.30454, -10.61818, -2.07823], dtype=float32)}\n",
            "step 7, loss -28.696, params {'w': DeviceArray([-1.75650, 12.00035, 2.53494, -11.67977, -2.28600], dtype=float32)}\n",
            "step 8, loss -31.565, params {'w': DeviceArray([-1.91897, 13.11033, 2.76941, -12.76010, -2.49745], dtype=float32)}\n",
            "step 9, loss -34.485, params {'w': DeviceArray([-2.08397, 14.23764, 3.00754, -13.85730, -2.71220], dtype=float32)}\n"
          ],
          "name": "stdout"
        }
      ]
    },
    {
      "cell_type": "markdown",
      "metadata": {
        "id": "_ITTDWT2ECxC"
      },
      "source": [
        "# Worked example\n",
        "\n",
        "We demonstrate how to fit a shallow MLP to MNIST using Flax."
      ]
    },
    {
      "cell_type": "markdown",
      "metadata": {
        "id": "E_xSZi3v03pC"
      },
      "source": [
        "## Data"
      ]
    },
    {
      "cell_type": "code",
      "metadata": {
        "colab": {
          "base_uri": "https://localhost:8080/",
          "height": 264,
          "referenced_widgets": [
            "d7f80b4703ea49f68156b9a2d2340692",
            "e0a4d052d22a4d47b516b95c8ac3acc5",
            "a157229195ab41d18d8d937d8750f800",
            "b8db32e87d7140ae93665d859f71e3c5",
            "f41bf22b33b3424c9acaf2f2fe5102a0",
            "e6d5accc6bfd406a9364bf2aff28af70",
            "fde4e6bb53824791801dbbe6e804019e",
            "f1525b505268487a996471820838d64b"
          ]
        },
        "id": "klFERmagmBlr",
        "outputId": "5b0458cc-a5d4-4feb-ca81-f585f1ded17e"
      },
      "source": [
        "import tensorflow as tf\n",
        "import tensorflow_datasets as tfds\n",
        "\n",
        "def process_tf(batch):\n",
        "  image = batch['image']\n",
        "  X = tf.cast(image, tf.float32) / 255. # TF yuck\n",
        "  X = tf.reshape(X, [-1, 28*28*1]) # flatten # gives (bs,1,784) - why the 1?\n",
        "  d = {'X': X,\n",
        "        'y': batch['label']}\n",
        "  return d\n",
        "\n",
        "def load_dataset_mnist(split: tfds.Split, batch_size: int) -> Iterator[Batch]:\n",
        "  ds, ds_info = tfds.load(\"mnist\", split=split, with_info=True)\n",
        "  #ds = ds.map(process_tf)\n",
        "  # For true randomness, we set the shuffle buffer to the full dataset size.\n",
        "  ds = ds.shuffle(ds_info.splits[split].num_examples)\n",
        "  ds = ds.batch(batch_size)\n",
        "  ds = ds.prefetch(tf.data.experimental.AUTOTUNE)\n",
        "  ds = ds.repeat()\n",
        "  ds = tfds.as_numpy(ds)\n",
        "  return iter(ds)\n",
        "\n",
        "\n",
        "batch_size = 30\n",
        "train_ds = load_dataset_mnist(tfds.Split.TRAIN, batch_size)\n",
        "batch = next(train_ds)\n",
        "print(batch['image'].shape)\n",
        "print(batch['label'].shape)\n",
        "\n",
        "\n"
      ],
      "execution_count": null,
      "outputs": [
        {
          "output_type": "stream",
          "text": [
            "\u001b[1mDownloading and preparing dataset mnist/3.0.1 (download: 11.06 MiB, generated: 21.00 MiB, total: 32.06 MiB) to /root/tensorflow_datasets/mnist/3.0.1...\u001b[0m\n"
          ],
          "name": "stdout"
        },
        {
          "output_type": "stream",
          "text": [
            "WARNING:absl:Dataset mnist is hosted on GCS. It will automatically be downloaded to your\n",
            "local data directory. If you'd instead prefer to read directly from our public\n",
            "GCS bucket (recommended if you're running on GCP), you can instead pass\n",
            "`try_gcs=True` to `tfds.load` or set `data_dir=gs://tfds-data/datasets`.\n",
            "\n"
          ],
          "name": "stderr"
        },
        {
          "output_type": "display_data",
          "data": {
            "application/vnd.jupyter.widget-view+json": {
              "model_id": "d7f80b4703ea49f68156b9a2d2340692",
              "version_minor": 0,
              "version_major": 2
            },
            "text/plain": [
              "HBox(children=(FloatProgress(value=0.0, description='Dl Completed...', max=4.0, style=ProgressStyle(descriptio…"
            ]
          },
          "metadata": {
            "tags": []
          }
        },
        {
          "output_type": "stream",
          "text": [
            "\n",
            "\n",
            "\u001b[1mDataset mnist downloaded and prepared to /root/tensorflow_datasets/mnist/3.0.1. Subsequent calls will reuse this data.\u001b[0m\n",
            "(30, 28, 28, 1)\n",
            "(30,)\n"
          ],
          "name": "stdout"
        }
      ]
    },
    {
      "cell_type": "code",
      "metadata": {
        "colab": {
          "base_uri": "https://localhost:8080/"
        },
        "id": "C-DNEPsXtWVO",
        "outputId": "7410b398-f5c9-406a-cf15-c77ce1242e94"
      },
      "source": [
        "def preprocess_batch(batch, rng): #numpy version\n",
        "  X = batch['image']\n",
        "  y = batch['label']\n",
        "  X = np.reshape(X, (X.shape[0], -1))\n",
        "  X = X.astype(np.float32)/255\n",
        "  return {'X': X, 'y': y}\n",
        "\n",
        "rng = jax.random.PRNGKey(0)\n",
        "batch = next(train_ds)\n",
        "batch2 = preprocess_batch(batch, rng)\n",
        "print(batch2['X'].shape)\n",
        "print(batch2['y'].shape)"
      ],
      "execution_count": null,
      "outputs": [
        {
          "output_type": "stream",
          "text": [
            "(30, 784)\n",
            "(30,)\n"
          ],
          "name": "stdout"
        }
      ]
    },
    {
      "cell_type": "markdown",
      "metadata": {
        "id": "rLiWUSjR05BQ"
      },
      "source": [
        "## Model\n",
        "\n",
        "We fit a one layer MLP."
      ]
    },
    {
      "cell_type": "code",
      "metadata": {
        "id": "cLwAwqd4Nzvy"
      },
      "source": [
        "class Model(nn.Module):\n",
        "  nhidden: int\n",
        "  nclasses: int\n",
        "\n",
        "  @nn.compact\n",
        "  def __call__(self, x):\n",
        "    if self.nhidden > 0:\n",
        "      x = nn.Dense(self.nhidden)(x)\n",
        "      x = nn.relu(x)\n",
        "    x = nn.Dense(self.nclasses)(x)\n",
        "    x = nn.log_softmax(x)\n",
        "    return x\n"
      ],
      "execution_count": null,
      "outputs": []
    },
    {
      "cell_type": "markdown",
      "metadata": {
        "id": "9JsVFGfU628j"
      },
      "source": [
        "## Generic fit function\n",
        "\n",
        "Code is from https://github.com/probml/pyprobml/blob/master/scripts/fit_flax.py"
      ]
    },
    {
      "cell_type": "code",
      "metadata": {
        "colab": {
          "base_uri": "https://localhost:8080/"
        },
        "id": "mzSEEjUhoLAA",
        "outputId": "03508994-89a1-4d61-81a8-06976e70598e"
      },
      "source": [
        "# Book code\n",
        "!rm -rf pyprobml # Run this first if the pyprobml directory already exists\n",
        "!git clone https://github.com/probml/pyprobml"
      ],
      "execution_count": null,
      "outputs": [
        {
          "output_type": "stream",
          "text": [
            "Cloning into 'pyprobml'...\n",
            "remote: Enumerating objects: 66, done.\u001b[K\n",
            "remote: Counting objects: 100% (66/66), done.\u001b[K\n",
            "remote: Compressing objects: 100% (57/57), done.\u001b[K\n",
            "remote: Total 5493 (delta 32), reused 20 (delta 9), pack-reused 5427\u001b[K\n",
            "Receiving objects: 100% (5493/5493), 197.46 MiB | 17.19 MiB/s, done.\n",
            "Resolving deltas: 100% (3087/3087), done.\n",
            "Checking out files: 100% (473/473), done.\n"
          ],
          "name": "stdout"
        }
      ]
    },
    {
      "cell_type": "code",
      "metadata": {
        "colab": {
          "base_uri": "https://localhost:8080/"
        },
        "id": "ViKR05jUoRxK",
        "outputId": "5bb5b754-6eae-475d-cdf9-2fd76669df62"
      },
      "source": [
        "#os.chdir('pyprobml/scripts')\n",
        "import pyprobml.scripts.fit_flax as ff\n",
        "ff.fit_model_test()"
      ],
      "execution_count": null,
      "outputs": [
        {
          "output_type": "stream",
          "text": [
            "train step: 0, loss: 1.7738, accuracy: 0.00\n",
            "train step: 1, loss: 1.5240, accuracy: 0.33\n",
            "test passed\n"
          ],
          "name": "stdout"
        }
      ]
    },
    {
      "cell_type": "code",
      "metadata": {
        "colab": {
          "base_uri": "https://localhost:8080/",
          "height": 825
        },
        "id": "3gup-OrNpLXr",
        "outputId": "52b43c33-85bb-444b-ca69-0400717ef1e4"
      },
      "source": [
        "make_optimizer = optim.Momentum(learning_rate=0.1, beta=0.9)\n",
        "\n",
        "model = Model(nhidden = 128, nclasses=10) \n",
        "\n",
        "batch_size = 32 \n",
        "train_ds = load_dataset_mnist(tfds.Split.TRAIN, batch_size)\n",
        "test_ds = load_dataset_mnist(tfds.Split.TEST, batch_size)\n",
        "\n",
        "rng = jax.random.PRNGKey(0)\n",
        "num_steps = 200\n",
        "\n",
        "params, history =  ff.fit_model(model, train_ds, test_ds,  rng,\n",
        "        num_steps, make_optimizer,\n",
        "        ff.train_batch, ff.eval_batch, \n",
        "        preprocess_batch, preprocess_batch,\n",
        "        print_every=20, eval_every=10)\n",
        "  \n",
        "display(history)"
      ],
      "execution_count": null,
      "outputs": [
        {
          "output_type": "stream",
          "text": [
            "train step: 0, loss: 2.3136, accuracy: 0.09\n",
            "train step: 20, loss: 0.8159, accuracy: 0.66\n",
            "train step: 40, loss: 0.9157, accuracy: 0.84\n",
            "train step: 60, loss: 0.2726, accuracy: 0.88\n",
            "train step: 80, loss: 0.9786, accuracy: 0.66\n",
            "train step: 100, loss: 0.4131, accuracy: 0.84\n",
            "train step: 120, loss: 0.5677, accuracy: 0.88\n",
            "train step: 140, loss: 0.3517, accuracy: 0.94\n",
            "train step: 160, loss: 0.0641, accuracy: 0.97\n",
            "train step: 180, loss: 0.3618, accuracy: 0.88\n"
          ],
          "name": "stdout"
        },
        {
          "output_type": "display_data",
          "data": {
            "text/html": [
              "<div>\n",
              "<style scoped>\n",
              "    .dataframe tbody tr th:only-of-type {\n",
              "        vertical-align: middle;\n",
              "    }\n",
              "\n",
              "    .dataframe tbody tr th {\n",
              "        vertical-align: top;\n",
              "    }\n",
              "\n",
              "    .dataframe thead th {\n",
              "        text-align: right;\n",
              "    }\n",
              "</style>\n",
              "<table border=\"1\" class=\"dataframe\">\n",
              "  <thead>\n",
              "    <tr style=\"text-align: right;\">\n",
              "      <th></th>\n",
              "      <th>train_loss</th>\n",
              "      <th>train_accuracy</th>\n",
              "      <th>test_loss</th>\n",
              "      <th>test_accuracy</th>\n",
              "      <th>step</th>\n",
              "    </tr>\n",
              "  </thead>\n",
              "  <tbody>\n",
              "    <tr>\n",
              "      <th>0</th>\n",
              "      <td>2.31363</td>\n",
              "      <td>0.09375</td>\n",
              "      <td>2.2760365</td>\n",
              "      <td>0.09375</td>\n",
              "      <td>0.0</td>\n",
              "    </tr>\n",
              "    <tr>\n",
              "      <th>1</th>\n",
              "      <td>1.3751764</td>\n",
              "      <td>0.59375</td>\n",
              "      <td>0.95285213</td>\n",
              "      <td>0.625</td>\n",
              "      <td>10.0</td>\n",
              "    </tr>\n",
              "    <tr>\n",
              "      <th>2</th>\n",
              "      <td>0.8158629</td>\n",
              "      <td>0.65625</td>\n",
              "      <td>0.8337441</td>\n",
              "      <td>0.78125</td>\n",
              "      <td>20.0</td>\n",
              "    </tr>\n",
              "    <tr>\n",
              "      <th>3</th>\n",
              "      <td>0.66259676</td>\n",
              "      <td>0.75</td>\n",
              "      <td>0.64875305</td>\n",
              "      <td>0.84375</td>\n",
              "      <td>30.0</td>\n",
              "    </tr>\n",
              "    <tr>\n",
              "      <th>4</th>\n",
              "      <td>0.9157165</td>\n",
              "      <td>0.84375</td>\n",
              "      <td>0.3847033</td>\n",
              "      <td>0.90625</td>\n",
              "      <td>40.0</td>\n",
              "    </tr>\n",
              "    <tr>\n",
              "      <th>5</th>\n",
              "      <td>1.1061184</td>\n",
              "      <td>0.71875</td>\n",
              "      <td>0.5960076</td>\n",
              "      <td>0.875</td>\n",
              "      <td>50.0</td>\n",
              "    </tr>\n",
              "    <tr>\n",
              "      <th>6</th>\n",
              "      <td>0.27263454</td>\n",
              "      <td>0.875</td>\n",
              "      <td>0.65843666</td>\n",
              "      <td>0.78125</td>\n",
              "      <td>60.0</td>\n",
              "    </tr>\n",
              "    <tr>\n",
              "      <th>7</th>\n",
              "      <td>0.87926686</td>\n",
              "      <td>0.71875</td>\n",
              "      <td>0.38330597</td>\n",
              "      <td>0.84375</td>\n",
              "      <td>70.0</td>\n",
              "    </tr>\n",
              "    <tr>\n",
              "      <th>8</th>\n",
              "      <td>0.978621</td>\n",
              "      <td>0.65625</td>\n",
              "      <td>0.5121664</td>\n",
              "      <td>0.75</td>\n",
              "      <td>80.0</td>\n",
              "    </tr>\n",
              "    <tr>\n",
              "      <th>9</th>\n",
              "      <td>0.41085285</td>\n",
              "      <td>0.90625</td>\n",
              "      <td>0.47765964</td>\n",
              "      <td>0.84375</td>\n",
              "      <td>90.0</td>\n",
              "    </tr>\n",
              "    <tr>\n",
              "      <th>10</th>\n",
              "      <td>0.41308284</td>\n",
              "      <td>0.84375</td>\n",
              "      <td>0.44917065</td>\n",
              "      <td>0.84375</td>\n",
              "      <td>100.0</td>\n",
              "    </tr>\n",
              "    <tr>\n",
              "      <th>11</th>\n",
              "      <td>0.35392252</td>\n",
              "      <td>0.875</td>\n",
              "      <td>0.13358633</td>\n",
              "      <td>0.96875</td>\n",
              "      <td>110.0</td>\n",
              "    </tr>\n",
              "    <tr>\n",
              "      <th>12</th>\n",
              "      <td>0.567686</td>\n",
              "      <td>0.875</td>\n",
              "      <td>0.46620435</td>\n",
              "      <td>0.75</td>\n",
              "      <td>120.0</td>\n",
              "    </tr>\n",
              "    <tr>\n",
              "      <th>13</th>\n",
              "      <td>0.23645164</td>\n",
              "      <td>0.90625</td>\n",
              "      <td>0.5451975</td>\n",
              "      <td>0.875</td>\n",
              "      <td>130.0</td>\n",
              "    </tr>\n",
              "    <tr>\n",
              "      <th>14</th>\n",
              "      <td>0.3516686</td>\n",
              "      <td>0.9375</td>\n",
              "      <td>0.2801758</td>\n",
              "      <td>0.875</td>\n",
              "      <td>140.0</td>\n",
              "    </tr>\n",
              "    <tr>\n",
              "      <th>15</th>\n",
              "      <td>0.43907472</td>\n",
              "      <td>0.84375</td>\n",
              "      <td>0.494274</td>\n",
              "      <td>0.84375</td>\n",
              "      <td>150.0</td>\n",
              "    </tr>\n",
              "    <tr>\n",
              "      <th>16</th>\n",
              "      <td>0.06414427</td>\n",
              "      <td>0.96875</td>\n",
              "      <td>0.36549434</td>\n",
              "      <td>0.90625</td>\n",
              "      <td>160.0</td>\n",
              "    </tr>\n",
              "    <tr>\n",
              "      <th>17</th>\n",
              "      <td>0.40481865</td>\n",
              "      <td>0.875</td>\n",
              "      <td>0.15323508</td>\n",
              "      <td>0.96875</td>\n",
              "      <td>170.0</td>\n",
              "    </tr>\n",
              "    <tr>\n",
              "      <th>18</th>\n",
              "      <td>0.36179838</td>\n",
              "      <td>0.875</td>\n",
              "      <td>0.18805325</td>\n",
              "      <td>0.96875</td>\n",
              "      <td>180.0</td>\n",
              "    </tr>\n",
              "    <tr>\n",
              "      <th>19</th>\n",
              "      <td>0.49327964</td>\n",
              "      <td>0.84375</td>\n",
              "      <td>0.341471</td>\n",
              "      <td>0.875</td>\n",
              "      <td>190.0</td>\n",
              "    </tr>\n",
              "  </tbody>\n",
              "</table>\n",
              "</div>"
            ],
            "text/plain": [
              "    train_loss train_accuracy   test_loss test_accuracy   step\n",
              "0      2.31363        0.09375   2.2760365       0.09375    0.0\n",
              "1    1.3751764        0.59375  0.95285213         0.625   10.0\n",
              "2    0.8158629        0.65625   0.8337441       0.78125   20.0\n",
              "3   0.66259676           0.75  0.64875305       0.84375   30.0\n",
              "4    0.9157165        0.84375   0.3847033       0.90625   40.0\n",
              "5    1.1061184        0.71875   0.5960076         0.875   50.0\n",
              "6   0.27263454          0.875  0.65843666       0.78125   60.0\n",
              "7   0.87926686        0.71875  0.38330597       0.84375   70.0\n",
              "8     0.978621        0.65625   0.5121664          0.75   80.0\n",
              "9   0.41085285        0.90625  0.47765964       0.84375   90.0\n",
              "10  0.41308284        0.84375  0.44917065       0.84375  100.0\n",
              "11  0.35392252          0.875  0.13358633       0.96875  110.0\n",
              "12    0.567686          0.875  0.46620435          0.75  120.0\n",
              "13  0.23645164        0.90625   0.5451975         0.875  130.0\n",
              "14   0.3516686         0.9375   0.2801758         0.875  140.0\n",
              "15  0.43907472        0.84375    0.494274       0.84375  150.0\n",
              "16  0.06414427        0.96875  0.36549434       0.90625  160.0\n",
              "17  0.40481865          0.875  0.15323508       0.96875  170.0\n",
              "18  0.36179838          0.875  0.18805325       0.96875  180.0\n",
              "19  0.49327964        0.84375    0.341471         0.875  190.0"
            ]
          },
          "metadata": {
            "tags": []
          }
        }
      ]
    },
    {
      "cell_type": "code",
      "metadata": {
        "colab": {
          "base_uri": "https://localhost:8080/",
          "height": 281
        },
        "id": "RWv2Sspl8EAN",
        "outputId": "2c19671d-f5a9-4df7-aa93-0a787b688aa2"
      },
      "source": [
        "plt.figure()\n",
        "plt.plot(history['step'], history['test_accuracy'], 'o-', label='test accuracy')\n",
        "plt.xlabel('num. minibatches')\n",
        "plt.legend()\n",
        "plt.show()"
      ],
      "execution_count": null,
      "outputs": [
        {
          "output_type": "display_data",
          "data": {
            "image/png": "[encoded data removed]",
            "text/plain": [
              "<Figure size 432x288 with 1 Axes>"
            ]
          },
          "metadata": {
            "tags": [],
            "needs_background": "light"
          }
        }
      ]
    },
    {
      "cell_type": "code",
      "metadata": {
        "id": "oWe69Z51Q3Kz"
      },
      "source": [
        ""
      ],
      "execution_count": null,
      "outputs": []
    }
  ]
}