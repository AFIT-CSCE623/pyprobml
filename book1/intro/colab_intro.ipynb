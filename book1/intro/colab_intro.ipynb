{
  "nbformat": 4,
  "nbformat_minor": 0,
  "metadata": {
    "colab": {
      "name": "colab_intro.ipynb",
      "provenance": [],
      "toc_visible": true,
      "include_colab_link": true
    },
    "kernelspec": {
      "name": "python3",
      "display_name": "Python 3"
    },
    "accelerator": "GPU"
  },
  "cells": [
    {
      "cell_type": "markdown",
      "metadata": {
        "id": "view-in-github",
        "colab_type": "text"
      },
      "source": [
        "<a href=\"https://colab.research.google.com/github/probml/pyprobml/blob/master/book1/intro/colab_intro.ipynb\" target=\"_parent\"><img src=\"https://colab.research.google.com/assets/colab-badge.svg\" alt=\"Open In Colab\"/></a>"
      ]
    },
    {
      "cell_type": "markdown",
      "metadata": {
        "id": "24_OboyL7tqe"
      },
      "source": [
        "# Introduction to colab\n",
        "\n",
        "This notebook illustrates how to install the PML code and various other libraries. More details in the [official documentation](https://colab.research.google.com/notebooks/intro.ipynb) and the [official introduction](https://colab.research.google.com/notebooks/basic_features_overview.ipynb).\n",
        "\n",
        "**Make sure you select 'GPU' from the 'Runtime' tab at the top of this page.**"
      ]
    },
    {
      "cell_type": "markdown",
      "metadata": {
        "id": "8lAbDqny-vDq"
      },
      "source": [
        "# How to import standard libraries"
      ]
    },
    {
      "cell_type": "markdown",
      "metadata": {
        "id": "XHO2_uKXMbD4"
      },
      "source": [
        "Colab comes with most of the packages we need pre-installed. \n",
        "To install new packages, use the following (see [this page](https://colab.research.google.com/notebooks/snippets/importing_libraries.ipynb) for details):\n",
        "\n",
        "```\n",
        "!pip install foo\n",
        "```\n",
        "\n",
        "To avoid installing packages  every time you open a colab,\n",
        " you can use this trick:\n",
        "\n",
        "https://stackoverflow.com/questions/55253498/how-do-i-install-a-library-permanently-in-colab\n"
      ]
    },
    {
      "cell_type": "code",
      "metadata": {
        "id": "B4KQOCig_xf1"
      },
      "source": [
        "# Standard Python libraries\n",
        "from __future__ import absolute_import, division, print_function, unicode_literals\n",
        "\n",
        "import os\n",
        "import time\n",
        "import glob"
      ],
      "execution_count": 1,
      "outputs": []
    },
    {
      "cell_type": "markdown",
      "metadata": {
        "id": "fOBdg02-_Jws"
      },
      "source": [
        "## Numpy"
      ]
    },
    {
      "cell_type": "code",
      "metadata": {
        "id": "AzP2LAtN_L1m"
      },
      "source": [
        "import numpy as np\n",
        "np.set_printoptions(precision=3)"
      ],
      "execution_count": 2,
      "outputs": []
    },
    {
      "cell_type": "markdown",
      "metadata": {
        "id": "76jPgsuk_1IP"
      },
      "source": [
        "## Pandas"
      ]
    },
    {
      "cell_type": "code",
      "metadata": {
        "id": "GimloDqo_4No"
      },
      "source": [
        "import pandas as pd\n",
        "pd.set_option('precision', 2) # 2 decimal places\n",
        "pd.set_option('display.max_rows', 20)\n",
        "pd.set_option('display.max_columns', 30)\n",
        "pd.set_option('display.width', 100) # wide windows\n",
        "\n"
      ],
      "execution_count": null,
      "outputs": []
    },
    {
      "cell_type": "markdown",
      "metadata": {
        "id": "hUCC261x_7zZ"
      },
      "source": [
        "## Sklearn"
      ]
    },
    {
      "cell_type": "code",
      "metadata": {
        "id": "RCSwx_lE_7Jn"
      },
      "source": [
        "import sklearn"
      ],
      "execution_count": null,
      "outputs": []
    },
    {
      "cell_type": "markdown",
      "metadata": {
        "id": "aLG5YIVFBql8"
      },
      "source": [
        "## Plotting"
      ]
    },
    {
      "cell_type": "code",
      "metadata": {
        "colab": {
          "base_uri": "https://localhost:8080/",
          "height": 283
        },
        "id": "Er4yxDokBsu4",
        "outputId": "63d7363f-d338-4d8b-d5a5-6077b06e4b79"
      },
      "source": [
        "import matplotlib.pyplot as plt\n",
        "import PIL\n",
        "import imageio\n",
        "import seaborn as sns;\n",
        "sns.set(style=\"ticks\", color_codes=True)\n",
        "\n",
        "from IPython import display\n",
        "\n",
        "# Check we can plot stuff\n",
        "plt.figure()\n",
        "plt.plot(range(10))"
      ],
      "execution_count": null,
      "outputs": [
        {
          "output_type": "execute_result",
          "data": {
            "text/plain": [
              "[<matplotlib.lines.Line2D at 0x7f92d5dd2470>]"
            ]
          },
          "metadata": {
            "tags": []
          },
          "execution_count": 2
        },
        {
          "output_type": "display_data",
          "data": {
            "image/png": "[encoded data removed]",
            "text/plain": [
              "<Figure size 432x288 with 1 Axes>"
            ]
          },
          "metadata": {
            "tags": [],
            "needs_background": "light"
          }
        }
      ]
    },
    {
      "cell_type": "markdown",
      "metadata": {
        "id": "PJXF4csdBhsN"
      },
      "source": [
        "## JAX"
      ]
    },
    {
      "cell_type": "code",
      "metadata": {
        "id": "8JiSxcJJ79Bv"
      },
      "source": [
        "# JAX (https://github.com/google/jax)\n",
        "\n",
        "import jax\n",
        "import jax.numpy as jnp\n",
        "A = jnp.zeros((3,3))"
      ],
      "execution_count": null,
      "outputs": []
    },
    {
      "cell_type": "markdown",
      "metadata": {
        "id": "l99YLyorBdYE"
      },
      "source": [
        "## Tensorflow"
      ]
    },
    {
      "cell_type": "code",
      "metadata": {
        "colab": {
          "base_uri": "https://localhost:8080/"
        },
        "id": "StpReaSICLUm",
        "outputId": "c7736121-d720-4d9c-965b-061b218d55a1"
      },
      "source": [
        "\n",
        "try:\n",
        "    # %tensorflow_version only exists in Colab.\n",
        "    %tensorflow_version 2.x\n",
        "    IS_COLAB = True\n",
        "except Exception:\n",
        "    IS_COLAB = False\n",
        "\n",
        "# TensorFlow ≥2.0 is required\n",
        "import tensorflow as tf\n",
        "from tensorflow import keras\n",
        "assert tf.__version__ >= \"2.0\"\n",
        "\n",
        "print(\"tf version {}\".format(tf.__version__))\n",
        "print([d for d in tf.config.list_physical_devices()])\n",
        "\n",
        "if not tf.config.list_physical_devices('GPU'):\n",
        "    print(\"No GPU was detected. DNNs can be very slow without a GPU.\")\n",
        "    if IS_COLAB:\n",
        "        print(\"Go to Runtime > Change runtime and select a GPU hardware accelerator.\")"
      ],
      "execution_count": null,
      "outputs": [
        {
          "output_type": "stream",
          "text": [
            "tf version 2.4.0\n",
            "[PhysicalDevice(name='/physical_device:CPU:0', device_type='CPU'), PhysicalDevice(name='/physical_device:GPU:0', device_type='GPU')]\n"
          ],
          "name": "stdout"
        }
      ]
    },
    {
      "cell_type": "markdown",
      "metadata": {
        "id": "grUUK1GrBfIY"
      },
      "source": [
        "## PyTorch"
      ]
    },
    {
      "cell_type": "code",
      "metadata": {
        "id": "Oi4Zmzla73A_",
        "colab": {
          "base_uri": "https://localhost:8080/"
        },
        "outputId": "be9564c9-aa02-4683-ac50-060d41254d9f"
      },
      "source": [
        "# Pytorch\n",
        "import torch\n",
        "import torchvision\n",
        "print(\"torch version {}\".format(torch.__version__))\n",
        "if torch.cuda.is_available():\n",
        "    print(torch.cuda.get_device_name(0))\n",
        "else:\n",
        "    print(\"Torch cannot find GPU\")"
      ],
      "execution_count": null,
      "outputs": [
        {
          "output_type": "stream",
          "text": [
            "torch version 1.7.0+cu101\n",
            "Tesla T4\n"
          ],
          "name": "stdout"
        }
      ]
    },
    {
      "cell_type": "markdown",
      "metadata": {
        "id": "rVvGT6GUBg2Q"
      },
      "source": [
        "## PML"
      ]
    },
    {
      "cell_type": "code",
      "metadata": {
        "id": "uVZWqzdW7_ZG",
        "colab": {
          "base_uri": "https://localhost:8080/"
        },
        "outputId": "a49ca9ae-b3bb-4fc6-82c8-7bd928d4ad27"
      },
      "source": [
        "# PyProbML files (data, scripts, etc)\n",
        "!rm -rf pyprobml # Run this first if the pyprobml directory already exists\n",
        "!git clone https://github.com/probml/pyprobml\n"
      ],
      "execution_count": null,
      "outputs": [
        {
          "output_type": "stream",
          "text": [
            "Cloning into 'pyprobml'...\n",
            "remote: Enumerating objects: 170, done.\u001b[K\n",
            "remote: Counting objects: 100% (170/170), done.\u001b[K\n",
            "remote: Compressing objects: 100% (140/140), done.\u001b[K\n",
            "remote: Total 4747 (delta 84), reused 66 (delta 24), pack-reused 4577\u001b[K\n",
            "Receiving objects: 100% (4747/4747), 201.89 MiB | 31.42 MiB/s, done.\n",
            "Resolving deltas: 100% (2587/2587), done.\n"
          ],
          "name": "stdout"
        }
      ]
    },
    {
      "cell_type": "code",
      "metadata": {
        "colab": {
          "base_uri": "https://localhost:8080/"
        },
        "id": "6rTAz3nECmZr",
        "outputId": "10e3ff14-570f-4ae7-e0f9-0d80d4398d49"
      },
      "source": [
        "# Check we can access scripts and any functions they define\n",
        "os.chdir('pyprobml/scripts')\n",
        "import pyprobml_utils as pml\n",
        "pml.pyprobml_test()\n"
      ],
      "execution_count": null,
      "outputs": [
        {
          "output_type": "stream",
          "text": [
            "welcome to python probabilistic ML library\n"
          ],
          "name": "stdout"
        }
      ]
    },
    {
      "cell_type": "code",
      "metadata": {
        "colab": {
          "base_uri": "https://localhost:8080/"
        },
        "id": "cMxxJYDICoLZ",
        "outputId": "392119d5-4236-410f-e7e1-01224d21e4f2"
      },
      "source": [
        "\n",
        "# Check we can read a datafile (we assume we have chdir to inside scripts dir)\n",
        "!ls '../data'\n",
        "datadir = '../data'\n",
        "import re\n",
        "fname = os.path.join(datadir, 'timemachine.txt')\n",
        "with open(fname, 'r') as f:\n",
        "    lines = f.readlines()\n",
        "    sentences = [re.sub('[^A-Za-z]+', ' ', st).lower().split()\n",
        "                   for st in lines]\n",
        "for  i in range(5):\n",
        "  words = sentences[i]\n",
        "  print(words)"
      ],
      "execution_count": null,
      "outputs": [
        {
          "output_type": "stream",
          "text": [
            "20news_w100.mat        goog.npy       sachsCtsHTF.txt\n",
            "bread.jpg\t       heightWeight   sat\n",
            "CelebA\t\t       knnClassify3c  SP500.csv\n",
            "clown.png\t       moteData       timemachine.txt\n",
            "collegeAdmissions.csv  mpg.csv\t      XwindowsDocData.mat\n",
            "CRX_REF_R1_8mers.txt   prostate\n",
            "['the', 'time', 'machine', 'by', 'h', 'g', 'wells']\n",
            "[]\n",
            "['i']\n",
            "[]\n",
            "['the', 'time', 'traveller', 'for', 'so', 'it', 'will', 'be', 'convenient', 'to', 'speak', 'of', 'him', 'was', 'expounding', 'a', 'recondite', 'matter', 'to', 'us', 'his', 'grey', 'eyes', 'shone', 'and', 'twinkled', 'and', 'his', 'usually', 'pale', 'face', 'was', 'flushed', 'and', 'animated', 'the', 'fire', 'burned', 'brightly', 'and', 'the', 'soft', 'radiance', 'of', 'the', 'incandescent', 'lights', 'in', 'the', 'lilies', 'of', 'silver', 'caught', 'the', 'bubbles', 'that', 'flashed', 'and', 'passed', 'in', 'our', 'glasses', 'our', 'chairs', 'being', 'his', 'patents', 'embraced', 'and', 'caressed', 'us', 'rather', 'than', 'submitted', 'to', 'be', 'sat', 'upon', 'and', 'there', 'was', 'that', 'luxurious', 'after', 'dinner', 'atmosphere', 'when', 'thought', 'roams', 'gracefully', 'free', 'of', 'the', 'trammels', 'of', 'precision', 'and', 'he', 'put', 'it', 'to', 'us', 'in', 'this', 'way', 'marking', 'the', 'points', 'with', 'a', 'lean', 'forefinger', 'as', 'we', 'sat', 'and', 'lazily', 'admired', 'his', 'earnestness', 'over', 'this', 'new', 'paradox', 'as', 'we', 'thought', 'it', 'and', 'his', 'fecundity']\n"
          ],
          "name": "stdout"
        }
      ]
    },
    {
      "cell_type": "markdown",
      "metadata": {
        "id": "PuSsmj_fZ106"
      },
      "source": [
        "# Avoiding problems with global state\n",
        "\n",
        "One of the main drawbacks of colab is that all variables are globally visible,\n",
        "so you may accidently write a function that depends on the current statet of the notebook, but which is not passed in as an argument. Such a function may fail if used in a different context. The [localscope](https://localscope.readthedocs.io/en/latest/README.html) package can catch some of these errors.\n",
        "(See also this [provocative and amusing set of slides by Joel Grus about why notebooks are bad](https://docs.google.com/presentation/d/1n2RlMdmv1p25Xy5thJUhkKGvjtV-dkAIsUXP-AL4ffI/edit).)\n",
        "\n"
      ]
    },
    {
      "cell_type": "code",
      "metadata": {
        "colab": {
          "base_uri": "https://localhost:8080/"
        },
        "id": "Q0FmEeIgc0YI",
        "outputId": "0d71c4a8-a4fb-45bd-e137-c391e408c83f"
      },
      "source": [
        "!pip install localscope\n"
      ],
      "execution_count": 3,
      "outputs": [
        {
          "output_type": "stream",
          "text": [
            "Collecting localscope\n",
            "  Downloading https://files.pythonhosted.org/packages/71/29/c3010c332c7175fe48060b1113e32f2831bab2202428d2cc29686685302f/localscope-0.1.3.tar.gz\n",
            "Building wheels for collected packages: localscope\n",
            "  Building wheel for localscope (setup.py) ... \u001b[?25l\u001b[?25hdone\n",
            "  Created wheel for localscope: filename=localscope-0.1.3-cp36-none-any.whl size=4068 sha256=7a5d6718e16dbff82fe94e1229d233a19ef52280ff0d4fc48ef62a2ba41d5855\n",
            "  Stored in directory: /root/.cache/pip/wheels/89/57/33/ce153d31de05d74323324df0f45a08ea99e92300e549da5154\n",
            "Successfully built localscope\n",
            "Installing collected packages: localscope\n",
            "Successfully installed localscope-0.1.3\n"
          ],
          "name": "stdout"
        }
      ]
    },
    {
      "cell_type": "code",
      "metadata": {
        "id": "9zfUiUB8d-jh"
      },
      "source": [
        "from localscope import localscope"
      ],
      "execution_count": 7,
      "outputs": []
    },
    {
      "cell_type": "code",
      "metadata": {
        "colab": {
          "base_uri": "https://localhost:8080/"
        },
        "id": "wI5wXzUPdlOS",
        "outputId": "500dfc1f-1cbc-4fa6-a30e-02f32258fa31"
      },
      "source": [
        "a = 'hello world'\n",
        "def myfun():\n",
        "   print(a) # silently accesses global variable\n",
        "\n",
        "myfun()"
      ],
      "execution_count": 4,
      "outputs": [
        {
          "output_type": "stream",
          "text": [
            "hello world\n"
          ],
          "name": "stdout"
        }
      ]
    },
    {
      "cell_type": "code",
      "metadata": {
        "colab": {
          "base_uri": "https://localhost:8080/",
          "height": 337
        },
        "id": "T3V1iV32czq8",
        "outputId": "b346cb7a-f252-41bc-992b-dd72e5aec825"
      },
      "source": [
        "a = 'hello world'\n",
        "@localscope\n",
        "def myfun():\n",
        "  print(a)\n",
        "\n",
        "myfun()"
      ],
      "execution_count": 8,
      "outputs": [
        {
          "output_type": "error",
          "ename": "ValueError",
          "evalue": "ignored",
          "traceback": [
            "\u001b[0;31m---------------------------------------------------------------------------\u001b[0m",
            "\u001b[0;31mValueError\u001b[0m                                Traceback (most recent call last)",
            "\u001b[0;32m<ipython-input-8-549f0808922e>\u001b[0m in \u001b[0;36m<module>\u001b[0;34m()\u001b[0m\n\u001b[1;32m      1\u001b[0m \u001b[0ma\u001b[0m \u001b[0;34m=\u001b[0m \u001b[0;34m'hello world'\u001b[0m\u001b[0;34m\u001b[0m\u001b[0;34m\u001b[0m\u001b[0m\n\u001b[0;32m----> 2\u001b[0;31m \u001b[0;34m@\u001b[0m\u001b[0mlocalscope\u001b[0m\u001b[0;34m\u001b[0m\u001b[0;34m\u001b[0m\u001b[0m\n\u001b[0m\u001b[1;32m      3\u001b[0m \u001b[0;32mdef\u001b[0m \u001b[0mmyfun\u001b[0m\u001b[0;34m(\u001b[0m\u001b[0;34m)\u001b[0m\u001b[0;34m:\u001b[0m\u001b[0;34m\u001b[0m\u001b[0;34m\u001b[0m\u001b[0m\n\u001b[1;32m      4\u001b[0m   \u001b[0mprint\u001b[0m\u001b[0;34m(\u001b[0m\u001b[0ma\u001b[0m\u001b[0;34m)\u001b[0m\u001b[0;34m\u001b[0m\u001b[0;34m\u001b[0m\u001b[0m\n\u001b[1;32m      5\u001b[0m \u001b[0;34m\u001b[0m\u001b[0m\n",
            "\u001b[0;32m/usr/local/lib/python3.6/dist-packages/localscope/__init__.py\u001b[0m in \u001b[0;36mlocalscope\u001b[0;34m(func, predicate, allowed, allow_closure, _globals)\u001b[0m\n\u001b[1;32m    115\u001b[0m             \u001b[0mvalue\u001b[0m \u001b[0;34m=\u001b[0m \u001b[0m_globals\u001b[0m\u001b[0;34m[\u001b[0m\u001b[0mname\u001b[0m\u001b[0;34m]\u001b[0m\u001b[0;34m\u001b[0m\u001b[0;34m\u001b[0m\u001b[0m\n\u001b[1;32m    116\u001b[0m             \u001b[0;32mif\u001b[0m \u001b[0;32mnot\u001b[0m \u001b[0mpredicate\u001b[0m\u001b[0;34m(\u001b[0m\u001b[0mvalue\u001b[0m\u001b[0;34m)\u001b[0m\u001b[0;34m:\u001b[0m\u001b[0;34m\u001b[0m\u001b[0;34m\u001b[0m\u001b[0m\n\u001b[0;32m--> 117\u001b[0;31m                 \u001b[0;32mraise\u001b[0m \u001b[0mValueError\u001b[0m\u001b[0;34m(\u001b[0m\u001b[0;34mf'`{name}` is not a permitted global'\u001b[0m\u001b[0;34m)\u001b[0m\u001b[0;34m\u001b[0m\u001b[0;34m\u001b[0m\u001b[0m\n\u001b[0m\u001b[1;32m    118\u001b[0m         \u001b[0;32melif\u001b[0m \u001b[0minstruction\u001b[0m\u001b[0;34m.\u001b[0m\u001b[0mopname\u001b[0m \u001b[0;34m==\u001b[0m \u001b[0;34m'STORE_DEREF'\u001b[0m\u001b[0;34m:\u001b[0m\u001b[0;34m\u001b[0m\u001b[0;34m\u001b[0m\u001b[0m\n\u001b[1;32m    119\u001b[0m             \u001b[0mallowed\u001b[0m\u001b[0;34m.\u001b[0m\u001b[0mappend\u001b[0m\u001b[0;34m(\u001b[0m\u001b[0mname\u001b[0m\u001b[0;34m)\u001b[0m\u001b[0;34m\u001b[0m\u001b[0;34m\u001b[0m\u001b[0m\n",
            "\u001b[0;31mValueError\u001b[0m: `a` is not a permitted global"
          ]
        }
      ]
    },
    {
      "cell_type": "code",
      "metadata": {
        "colab": {
          "base_uri": "https://localhost:8080/",
          "height": 337
        },
        "id": "5t48_AMbAN8V",
        "outputId": "71fdaacf-4650-4a52-9fb5-da5873c33e73"
      },
      "source": [
        "def myfun2():\n",
        "  return 42\n",
        "\n",
        "@localscope\n",
        "def myfun3():\n",
        "  return myfun2()\n",
        "\n",
        "  "
      ],
      "execution_count": 9,
      "outputs": [
        {
          "output_type": "error",
          "ename": "ValueError",
          "evalue": "ignored",
          "traceback": [
            "\u001b[0;31m---------------------------------------------------------------------------\u001b[0m",
            "\u001b[0;31mValueError\u001b[0m                                Traceback (most recent call last)",
            "\u001b[0;32m<ipython-input-9-5cfa07ed9c85>\u001b[0m in \u001b[0;36m<module>\u001b[0;34m()\u001b[0m\n\u001b[1;32m      2\u001b[0m   \u001b[0;32mreturn\u001b[0m \u001b[0;36m42\u001b[0m\u001b[0;34m\u001b[0m\u001b[0;34m\u001b[0m\u001b[0m\n\u001b[1;32m      3\u001b[0m \u001b[0;34m\u001b[0m\u001b[0m\n\u001b[0;32m----> 4\u001b[0;31m \u001b[0;34m@\u001b[0m\u001b[0mlocalscope\u001b[0m\u001b[0;34m\u001b[0m\u001b[0;34m\u001b[0m\u001b[0m\n\u001b[0m\u001b[1;32m      5\u001b[0m \u001b[0;32mdef\u001b[0m \u001b[0mmyfun3\u001b[0m\u001b[0;34m(\u001b[0m\u001b[0;34m)\u001b[0m\u001b[0;34m:\u001b[0m\u001b[0;34m\u001b[0m\u001b[0;34m\u001b[0m\u001b[0m\n\u001b[1;32m      6\u001b[0m   \u001b[0;32mreturn\u001b[0m \u001b[0mmyfun2\u001b[0m\u001b[0;34m(\u001b[0m\u001b[0;34m)\u001b[0m\u001b[0;34m\u001b[0m\u001b[0;34m\u001b[0m\u001b[0m\n",
            "\u001b[0;32m/usr/local/lib/python3.6/dist-packages/localscope/__init__.py\u001b[0m in \u001b[0;36mlocalscope\u001b[0;34m(func, predicate, allowed, allow_closure, _globals)\u001b[0m\n\u001b[1;32m    115\u001b[0m             \u001b[0mvalue\u001b[0m \u001b[0;34m=\u001b[0m \u001b[0m_globals\u001b[0m\u001b[0;34m[\u001b[0m\u001b[0mname\u001b[0m\u001b[0;34m]\u001b[0m\u001b[0;34m\u001b[0m\u001b[0;34m\u001b[0m\u001b[0m\n\u001b[1;32m    116\u001b[0m             \u001b[0;32mif\u001b[0m \u001b[0;32mnot\u001b[0m \u001b[0mpredicate\u001b[0m\u001b[0;34m(\u001b[0m\u001b[0mvalue\u001b[0m\u001b[0;34m)\u001b[0m\u001b[0;34m:\u001b[0m\u001b[0;34m\u001b[0m\u001b[0;34m\u001b[0m\u001b[0m\n\u001b[0;32m--> 117\u001b[0;31m                 \u001b[0;32mraise\u001b[0m \u001b[0mValueError\u001b[0m\u001b[0;34m(\u001b[0m\u001b[0;34mf'`{name}` is not a permitted global'\u001b[0m\u001b[0;34m)\u001b[0m\u001b[0;34m\u001b[0m\u001b[0;34m\u001b[0m\u001b[0m\n\u001b[0m\u001b[1;32m    118\u001b[0m         \u001b[0;32melif\u001b[0m \u001b[0minstruction\u001b[0m\u001b[0;34m.\u001b[0m\u001b[0mopname\u001b[0m \u001b[0;34m==\u001b[0m \u001b[0;34m'STORE_DEREF'\u001b[0m\u001b[0;34m:\u001b[0m\u001b[0;34m\u001b[0m\u001b[0;34m\u001b[0m\u001b[0m\n\u001b[1;32m    119\u001b[0m             \u001b[0mallowed\u001b[0m\u001b[0;34m.\u001b[0m\u001b[0mappend\u001b[0m\u001b[0;34m(\u001b[0m\u001b[0mname\u001b[0m\u001b[0;34m)\u001b[0m\u001b[0;34m\u001b[0m\u001b[0;34m\u001b[0m\u001b[0m\n",
            "\u001b[0;31mValueError\u001b[0m: `myfun2` is not a permitted global"
          ]
        }
      ]
    },
    {
      "cell_type": "code",
      "metadata": {
        "id": "DAqLZ8PdAquy"
      },
      "source": [
        "@localscope.mfc # allow for global methods, functions, classes\n",
        "def myfun3():\n",
        "  return myfun2()\n"
      ],
      "execution_count": 10,
      "outputs": []
    }
  ]
}