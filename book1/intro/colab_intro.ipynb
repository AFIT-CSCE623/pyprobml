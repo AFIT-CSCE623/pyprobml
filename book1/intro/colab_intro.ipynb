{
  "nbformat": 4,
  "nbformat_minor": 0,
  "metadata": {
    "colab": {
      "name": " colab_intro.ipynb",
      "provenance": [],
      "toc_visible": true,
      "machine_shape": "hm",
      "include_colab_link": true
    },
    "kernelspec": {
      "name": "python3",
      "display_name": "Python 3"
    },
    "accelerator": "GPU"
  },
  "cells": [
    {
      "cell_type": "markdown",
      "metadata": {
        "id": "view-in-github",
        "colab_type": "text"
      },
      "source": [
        "<a href=\"https://colab.research.google.com/github/probml/pyprobml/blob/master/book1/intro/colab_intro.ipynb\" target=\"_parent\"><img src=\"https://colab.research.google.com/assets/colab-badge.svg\" alt=\"Open In Colab\"/></a>"
      ]
    },
    {
      "cell_type": "markdown",
      "metadata": {
        "id": "24_OboyL7tqe"
      },
      "source": [
        "# Introduction to colab\n",
        "\n",
        "This notebook illustrates how to install the PML code and various other libraries. More details in the [official documentation](https://colab.research.google.com/notebooks/intro.ipynb) and the [official introduction](https://colab.research.google.com/notebooks/basic_features_overview.ipynb).\n"
      ]
    },
    {
      "cell_type": "code",
      "metadata": {
        "colab": {
          "base_uri": "https://localhost:8080/"
        },
        "id": "ZjFsGQJ41k32",
        "outputId": "19d03ca5-5671-4e33-c9f4-fc18f768f0ba"
      },
      "source": [
        "IS_COLAB = ('google.colab' in str(get_ipython()))\n",
        "print(IS_COLAB)\n"
      ],
      "execution_count": 1,
      "outputs": [
        {
          "output_type": "stream",
          "text": [
            "True\n"
          ],
          "name": "stdout"
        }
      ]
    },
    {
      "cell_type": "markdown",
      "metadata": {
        "id": "8lAbDqny-vDq"
      },
      "source": [
        "# How to import standard libraries"
      ]
    },
    {
      "cell_type": "markdown",
      "metadata": {
        "id": "XHO2_uKXMbD4"
      },
      "source": [
        "Colab comes with most of the packages we need pre-installed. \n",
        "\n",
        "\n",
        "\n"
      ]
    },
    {
      "cell_type": "code",
      "metadata": {
        "id": "B4KQOCig_xf1"
      },
      "source": [
        "# Standard Python libraries\n",
        "from __future__ import absolute_import, division, print_function, unicode_literals\n",
        "\n",
        "import os\n",
        "import time\n",
        "import glob\n",
        "\n",
        "from typing import Any, Callable, Dict, Iterator, Mapping, Optional, Sequence, Tuple"
      ],
      "execution_count": 2,
      "outputs": []
    },
    {
      "cell_type": "markdown",
      "metadata": {
        "id": "U9PghW_NT1HY"
      },
      "source": [
        "To install new packages, use the following (see [this page](https://colab.research.google.com/notebooks/snippets/importing_libraries.ipynb) for details):\n",
        "\n",
        "```\n",
        "!pip install foo\n",
        "```\n",
        "\n"
      ]
    },
    {
      "cell_type": "markdown",
      "metadata": {
        "id": "fOBdg02-_Jws"
      },
      "source": [
        "## Numpy"
      ]
    },
    {
      "cell_type": "code",
      "metadata": {
        "id": "AzP2LAtN_L1m",
        "colab": {
          "base_uri": "https://localhost:8080/"
        },
        "outputId": "775ab507-3a70-4816-d76e-e2d463aa571d"
      },
      "source": [
        "import numpy as np\n",
        "np.set_printoptions(precision=3)\n",
        "\n",
        "A = np.random.randn(2,3)\n",
        "print(A)"
      ],
      "execution_count": null,
      "outputs": [
        {
          "output_type": "stream",
          "text": [
            "[[0.414 1.496 0.64 ]\n",
            " [0.953 1.708 0.251]]\n"
          ],
          "name": "stdout"
        }
      ]
    },
    {
      "cell_type": "markdown",
      "metadata": {
        "id": "76jPgsuk_1IP"
      },
      "source": [
        "## Pandas"
      ]
    },
    {
      "cell_type": "code",
      "metadata": {
        "id": "GimloDqo_4No",
        "colab": {
          "base_uri": "https://localhost:8080/",
          "height": 197
        },
        "outputId": "1ddca722-d652-4b44-c4e0-982c722dabeb"
      },
      "source": [
        "import pandas as pd\n",
        "pd.set_option('precision', 2) # 2 decimal places\n",
        "pd.set_option('display.max_rows', 20)\n",
        "pd.set_option('display.max_columns', 30)\n",
        "pd.set_option('display.width', 100) # wide windows\n",
        "\n",
        "url = 'https://archive.ics.uci.edu/ml/machine-learning-databases/auto-mpg/auto-mpg.data'\n",
        "column_names = ['MPG','Cylinders','Displacement','Horsepower','Weight',\n",
        "                'Acceleration', 'Year', 'Origin', 'Name']\n",
        "df = pd.read_csv(url, names=column_names, sep='\\s+', na_values=\"?\")\n",
        "\n",
        "df.head()"
      ],
      "execution_count": null,
      "outputs": [
        {
          "output_type": "execute_result",
          "data": {
            "text/html": [
              "<div>\n",
              "<style scoped>\n",
              "    .dataframe tbody tr th:only-of-type {\n",
              "        vertical-align: middle;\n",
              "    }\n",
              "\n",
              "    .dataframe tbody tr th {\n",
              "        vertical-align: top;\n",
              "    }\n",
              "\n",
              "    .dataframe thead th {\n",
              "        text-align: right;\n",
              "    }\n",
              "</style>\n",
              "<table border=\"1\" class=\"dataframe\">\n",
              "  <thead>\n",
              "    <tr style=\"text-align: right;\">\n",
              "      <th></th>\n",
              "      <th>MPG</th>\n",
              "      <th>Cylinders</th>\n",
              "      <th>Displacement</th>\n",
              "      <th>Horsepower</th>\n",
              "      <th>Weight</th>\n",
              "      <th>Acceleration</th>\n",
              "      <th>Year</th>\n",
              "      <th>Origin</th>\n",
              "      <th>Name</th>\n",
              "    </tr>\n",
              "  </thead>\n",
              "  <tbody>\n",
              "    <tr>\n",
              "      <th>0</th>\n",
              "      <td>18.0</td>\n",
              "      <td>8</td>\n",
              "      <td>307.0</td>\n",
              "      <td>130.0</td>\n",
              "      <td>3504.0</td>\n",
              "      <td>12.0</td>\n",
              "      <td>70</td>\n",
              "      <td>1</td>\n",
              "      <td>chevrolet chevelle malibu</td>\n",
              "    </tr>\n",
              "    <tr>\n",
              "      <th>1</th>\n",
              "      <td>15.0</td>\n",
              "      <td>8</td>\n",
              "      <td>350.0</td>\n",
              "      <td>165.0</td>\n",
              "      <td>3693.0</td>\n",
              "      <td>11.5</td>\n",
              "      <td>70</td>\n",
              "      <td>1</td>\n",
              "      <td>buick skylark 320</td>\n",
              "    </tr>\n",
              "    <tr>\n",
              "      <th>2</th>\n",
              "      <td>18.0</td>\n",
              "      <td>8</td>\n",
              "      <td>318.0</td>\n",
              "      <td>150.0</td>\n",
              "      <td>3436.0</td>\n",
              "      <td>11.0</td>\n",
              "      <td>70</td>\n",
              "      <td>1</td>\n",
              "      <td>plymouth satellite</td>\n",
              "    </tr>\n",
              "    <tr>\n",
              "      <th>3</th>\n",
              "      <td>16.0</td>\n",
              "      <td>8</td>\n",
              "      <td>304.0</td>\n",
              "      <td>150.0</td>\n",
              "      <td>3433.0</td>\n",
              "      <td>12.0</td>\n",
              "      <td>70</td>\n",
              "      <td>1</td>\n",
              "      <td>amc rebel sst</td>\n",
              "    </tr>\n",
              "    <tr>\n",
              "      <th>4</th>\n",
              "      <td>17.0</td>\n",
              "      <td>8</td>\n",
              "      <td>302.0</td>\n",
              "      <td>140.0</td>\n",
              "      <td>3449.0</td>\n",
              "      <td>10.5</td>\n",
              "      <td>70</td>\n",
              "      <td>1</td>\n",
              "      <td>ford torino</td>\n",
              "    </tr>\n",
              "  </tbody>\n",
              "</table>\n",
              "</div>"
            ],
            "text/plain": [
              "    MPG  Cylinders  Displacement  Horsepower  Weight  Acceleration  Year  Origin  \\\n",
              "0  18.0          8         307.0       130.0  3504.0          12.0    70       1   \n",
              "1  15.0          8         350.0       165.0  3693.0          11.5    70       1   \n",
              "2  18.0          8         318.0       150.0  3436.0          11.0    70       1   \n",
              "3  16.0          8         304.0       150.0  3433.0          12.0    70       1   \n",
              "4  17.0          8         302.0       140.0  3449.0          10.5    70       1   \n",
              "\n",
              "                        Name  \n",
              "0  chevrolet chevelle malibu  \n",
              "1          buick skylark 320  \n",
              "2         plymouth satellite  \n",
              "3              amc rebel sst  \n",
              "4                ford torino  "
            ]
          },
          "metadata": {
            "tags": []
          },
          "execution_count": 1
        }
      ]
    },
    {
      "cell_type": "markdown",
      "metadata": {
        "id": "hUCC261x_7zZ"
      },
      "source": [
        "## Sklearn"
      ]
    },
    {
      "cell_type": "code",
      "metadata": {
        "id": "RCSwx_lE_7Jn",
        "colab": {
          "base_uri": "https://localhost:8080/",
          "height": 285
        },
        "outputId": "4036c988-bb39-4ad4-d9af-f45bc6330231"
      },
      "source": [
        "import sklearn\n",
        "\n",
        "from sklearn.datasets import load_iris\n",
        "iris = load_iris()\n",
        "# Extract numpy arrays\n",
        "X = iris.data \n",
        "y = iris.target\n",
        "\n",
        "import matplotlib.pyplot as plt\n",
        "plt.scatter(X[:,0], X[:,1])"
      ],
      "execution_count": null,
      "outputs": [
        {
          "output_type": "execute_result",
          "data": {
            "text/plain": [
              "<matplotlib.collections.PathCollection at 0x7f2d91bb3c18>"
            ]
          },
          "metadata": {
            "tags": []
          },
          "execution_count": 5
        },
        {
          "output_type": "display_data",
          "data": {
            "image/png": "[encoded data removed]",
            "text/plain": [
              "<Figure size 432x288 with 1 Axes>"
            ]
          },
          "metadata": {
            "tags": [],
            "needs_background": "light"
          }
        }
      ]
    },
    {
      "cell_type": "markdown",
      "metadata": {
        "id": "PJXF4csdBhsN"
      },
      "source": [
        "## JAX"
      ]
    },
    {
      "cell_type": "code",
      "metadata": {
        "id": "8JiSxcJJ79Bv",
        "colab": {
          "base_uri": "https://localhost:8080/"
        },
        "outputId": "97f3ebb7-93b8-4255-bccb-781d01ccb4cc"
      },
      "source": [
        "# JAX (https://github.com/google/jax)\n",
        "\n",
        "import jax\n",
        "import jax.numpy as jnp\n",
        "A = jnp.zeros((3,3))\n",
        "\n",
        "# Check if JAX is using GPU\n",
        "print(\"jax backend {}\".format(jax.lib.xla_bridge.get_backend().platform))"
      ],
      "execution_count": null,
      "outputs": [
        {
          "output_type": "stream",
          "text": [
            "jax backend gpu\n"
          ],
          "name": "stdout"
        }
      ]
    },
    {
      "cell_type": "markdown",
      "metadata": {
        "id": "l99YLyorBdYE"
      },
      "source": [
        "## Tensorflow"
      ]
    },
    {
      "cell_type": "code",
      "metadata": {
        "colab": {
          "base_uri": "https://localhost:8080/"
        },
        "id": "StpReaSICLUm",
        "outputId": "5dfac104-8e5a-49cd-8400-eadb56650acd"
      },
      "source": [
        "\n",
        "import tensorflow as tf\n",
        "from tensorflow import keras\n",
        "assert tf.__version__ >= \"2.0\"\n",
        "\n",
        "print(\"tf version {}\".format(tf.__version__))\n",
        "print([d for d in tf.config.list_physical_devices()])\n",
        "\n",
        "if not tf.config.list_physical_devices('GPU'):\n",
        "    print(\"No GPU was detected. DNNs can be very slow without a GPU.\")\n",
        "    if IS_COLAB:\n",
        "        print(\"Go to Runtime > Change runtime and select a GPU hardware accelerator.\")"
      ],
      "execution_count": null,
      "outputs": [
        {
          "output_type": "stream",
          "text": [
            "tf version 2.4.0\n",
            "[PhysicalDevice(name='/physical_device:CPU:0', device_type='CPU'), PhysicalDevice(name='/physical_device:GPU:0', device_type='GPU')]\n"
          ],
          "name": "stdout"
        }
      ]
    },
    {
      "cell_type": "markdown",
      "metadata": {
        "id": "grUUK1GrBfIY"
      },
      "source": [
        "## PyTorch"
      ]
    },
    {
      "cell_type": "code",
      "metadata": {
        "id": "Oi4Zmzla73A_",
        "colab": {
          "base_uri": "https://localhost:8080/"
        },
        "outputId": "558ed73a-5dfe-491a-be1c-64c949283e48"
      },
      "source": [
        "\n",
        "import torch\n",
        "import torchvision\n",
        "print(\"torch version {}\".format(torch.__version__))\n",
        "if torch.cuda.is_available():\n",
        "    print(torch.cuda.get_device_name(0))\n",
        "else:\n",
        "    print(\"Torch cannot find GPU\")"
      ],
      "execution_count": null,
      "outputs": [
        {
          "output_type": "stream",
          "text": [
            "torch version 1.7.0+cu101\n",
            "Tesla T4\n"
          ],
          "name": "stdout"
        }
      ]
    },
    {
      "cell_type": "markdown",
      "metadata": {
        "id": "M4ayVFuc0FD9"
      },
      "source": [
        "# Plotting\n",
        "\n",
        "Colab lets you make static plots using matplotlib, as shown below."
      ]
    },
    {
      "cell_type": "code",
      "metadata": {
        "colab": {
          "base_uri": "https://localhost:8080/",
          "height": 267
        },
        "id": "j_k4tv4D1VaC",
        "outputId": "dda6cc16-8351-4aff-9c09-ab7ad5dc968f"
      },
      "source": [
        "import matplotlib.pyplot as plt\n",
        "import PIL\n",
        "import imageio\n",
        "import seaborn as sns;\n",
        "sns.set(style=\"ticks\", color_codes=True)\n",
        "\n",
        "from IPython import display\n",
        "\n",
        "plt.figure()\n",
        "plt.plot(range(10))\n",
        "plt.savefig('myplot.png')"
      ],
      "execution_count": null,
      "outputs": [
        {
          "output_type": "display_data",
          "data": {
            "image/png": "[encoded data removed]",
            "text/plain": [
              "<Figure size 432x288 with 1 Axes>"
            ]
          },
          "metadata": {
            "tags": []
          }
        }
      ]
    },
    {
      "cell_type": "markdown",
      "metadata": {
        "id": "qLh3fxl63IHW"
      },
      "source": [
        "Colab also lets you create interactive plots using various javascript libraries - see [here](https://colab.research.google.com/notebooks/charts.ipynb#scrollTo=QSMmdrrVLZ-N) for details."
      ]
    },
    {
      "cell_type": "markdown",
      "metadata": {
        "id": "7aCgO-moU2WA"
      },
      "source": [
        "# Accessing local files\n",
        "\n",
        "Clicking on the file folder icon on the left hand side of colab lets you browse local files. Right clicking on a filename lets you download it to your local machine. Double clicking on a file will open it in the file viewer/ editor, which appears on the right hand side. \n",
        "\n",
        "The result should look something like this:\n",
        "\n",
        "<img src=\"https://github.com/probml/pyprobml/blob/\n",
        "master/book1/intro/figures/colab-image-viewer.png?raw=true\">\n",
        "\n",
        "\n",
        "You can also use standard unix commands to manipulate files, as we show below."
      ]
    },
    {
      "cell_type": "code",
      "metadata": {
        "colab": {
          "base_uri": "https://localhost:8080/"
        },
        "id": "dRh4BOIxHpEX",
        "outputId": "104c8f4f-9eff-4b9b-fc81-c084740e475b"
      },
      "source": [
        "!pwd"
      ],
      "execution_count": null,
      "outputs": [
        {
          "output_type": "stream",
          "text": [
            "/content\n"
          ],
          "name": "stdout"
        }
      ]
    },
    {
      "cell_type": "code",
      "metadata": {
        "colab": {
          "base_uri": "https://localhost:8080/"
        },
        "id": "T7i8bvaghwy7",
        "outputId": "bb0012d2-bc82-4d5d-dfe3-acf2ba3e77a7"
      },
      "source": [
        "!ls"
      ],
      "execution_count": null,
      "outputs": [
        {
          "output_type": "stream",
          "text": [
            "myplot.png  sample_data\n"
          ],
          "name": "stdout"
        }
      ]
    },
    {
      "cell_type": "code",
      "metadata": {
        "colab": {
          "base_uri": "https://localhost:8080/"
        },
        "id": "HDNijfMPjPsE",
        "outputId": "d2bb4d90-86fc-44b2-9900-6050507e082b"
      },
      "source": [
        "!echo 'foo bar' > foo.txt\n",
        "!cat foo.txt"
      ],
      "execution_count": null,
      "outputs": [
        {
          "output_type": "stream",
          "text": [
            "foo bar\n"
          ],
          "name": "stdout"
        }
      ]
    },
    {
      "cell_type": "markdown",
      "metadata": {
        "id": "Ell60Ff4UE-P"
      },
      "source": [
        "You can open text files in the editor by clicking on their filename in the file browser, or programmatically as shown below."
      ]
    },
    {
      "cell_type": "code",
      "metadata": {
        "colab": {
          "base_uri": "https://localhost:8080/",
          "height": 16
        },
        "id": "CcxDCpyYjhfU",
        "outputId": "d521b728-16e6-43d7-f8e9-2c2d3c0b8eef"
      },
      "source": [
        "from google.colab import files\n",
        "files.view('foo.txt')"
      ],
      "execution_count": null,
      "outputs": [
        {
          "output_type": "display_data",
          "data": {
            "application/javascript": [
              "\n",
              "      ((filepath) => {{\n",
              "        if (!google.colab.kernel.accessAllowed) {{\n",
              "          return;\n",
              "        }}\n",
              "        google.colab.files.view(filepath);\n",
              "      }})(\"/content/foo.txt\")"
            ],
            "text/plain": [
              "<IPython.core.display.Javascript object>"
            ]
          },
          "metadata": {
            "tags": []
          }
        }
      ]
    },
    {
      "cell_type": "markdown",
      "metadata": {
        "id": "PMet3XdcVF9O"
      },
      "source": [
        "If you make changes to a file containing code, the new version of the file will not be noticed unless you use the magic below."
      ]
    },
    {
      "cell_type": "code",
      "metadata": {
        "colab": {
          "base_uri": "https://localhost:8080/"
        },
        "id": "0ufY8AO1VEUh",
        "outputId": "13aeca9f-992b-4881-98d4-89508b0ad23a"
      },
      "source": [
        "%load_ext autoreload\n",
        "%autoreload 2"
      ],
      "execution_count": null,
      "outputs": [
        {
          "output_type": "stream",
          "text": [
            "The autoreload extension is already loaded. To reload it, use:\n",
            "  %reload_ext autoreload\n"
          ],
          "name": "stdout"
        }
      ]
    },
    {
      "cell_type": "markdown",
      "metadata": {
        "id": "6a6nkLsKWQpu"
      },
      "source": [
        "# Syncing with Google drive\n",
        "\n",
        "Files that you generate in, or upload to, colab are ephemeral, since colab is a temporary environment with an idle timeout of 90 minutes and an absolute timeout of 12 hours (24 hours for Colab pro). To save any files permanently, you need to mount your google drive folder as we show below. (Executing this command will open a new window in your browser - you need cut and paste the password that is shown into the prompt box.)\n",
        "\n"
      ]
    },
    {
      "cell_type": "code",
      "metadata": {
        "colab": {
          "base_uri": "https://localhost:8080/"
        },
        "id": "cYZpcMiQkl15",
        "outputId": "b9e259a1-c252-48c0-cdd8-72f97531c2f0"
      },
      "source": [
        "from google.colab import drive\n",
        "drive.mount('/content/gdrive')\n",
        "!pwd\n",
        "\n",
        "with open('/content/gdrive/MyDrive/foo.txt', 'w') as f:\n",
        "  f.write('Hello Google Drive!')\n",
        "!cat /content/gdrive/MyDrive/foo.txt"
      ],
      "execution_count": null,
      "outputs": [
        {
          "output_type": "stream",
          "text": [
            "Mounted at /content/gdrive\n",
            "/content\n",
            "Hello Google Drive!"
          ],
          "name": "stdout"
        }
      ]
    },
    {
      "cell_type": "markdown",
      "metadata": {
        "id": "buZsxpmUS37n"
      },
      "source": [
        "# Working with github\n",
        "\n",
        "It is possible to download code (or data) from githib into a local directory on this virtual machine.  It is also possible to upload local files back to github, although that is more complex. See details below."
      ]
    },
    {
      "cell_type": "markdown",
      "metadata": {
        "id": "rVvGT6GUBg2Q"
      },
      "source": [
        "## Cloning a repo from github\n",
        "\n",
        "Below we show how to clone the repo for this book, so you can access its code and data."
      ]
    },
    {
      "cell_type": "code",
      "metadata": {
        "id": "uVZWqzdW7_ZG",
        "colab": {
          "base_uri": "https://localhost:8080/"
        },
        "outputId": "fa8feb47-d11b-49c1-c92c-6a96ef874985"
      },
      "source": [
        "\n",
        "!rm -rf pyprobml # Remove any old local directory to ensure fresh install\n",
        "!git clone https://github.com/probml/pyprobml\n"
      ],
      "execution_count": null,
      "outputs": [
        {
          "output_type": "stream",
          "text": [
            "Cloning into 'pyprobml'...\n",
            "remote: Enumerating objects: 69, done.\u001b[K\n",
            "remote: Counting objects: 100% (69/69), done.\u001b[K\n",
            "remote: Compressing objects: 100% (60/60), done.\u001b[K\n",
            "remote: Total 5624 (delta 37), reused 21 (delta 8), pack-reused 5555\u001b[K\n",
            "Receiving objects: 100% (5624/5624), 198.09 MiB | 23.94 MiB/s, done.\n",
            "Resolving deltas: 100% (3179/3179), done.\n"
          ],
          "name": "stdout"
        }
      ]
    },
    {
      "cell_type": "code",
      "metadata": {
        "colab": {
          "base_uri": "https://localhost:8080/"
        },
        "id": "XdC34HzKT8L8",
        "outputId": "86394ce4-76e0-4802-8917-f3e142f3cba9"
      },
      "source": [
        "!ls"
      ],
      "execution_count": null,
      "outputs": [
        {
          "output_type": "stream",
          "text": [
            "foo.txt  myplot.png  pyprobml  sample_data\n"
          ],
          "name": "stdout"
        }
      ]
    },
    {
      "cell_type": "markdown",
      "metadata": {
        "id": "HuplkSqtkDuR"
      },
      "source": [
        "We can access data as shown below."
      ]
    },
    {
      "cell_type": "code",
      "metadata": {
        "colab": {
          "base_uri": "https://localhost:8080/"
        },
        "id": "_8m9VQ-3kFcq",
        "outputId": "4f078099-482d-4f09-c1b1-a950cd703d33"
      },
      "source": [
        "\n",
        "datadir = 'pyprobml/data'\n",
        "import re\n",
        "fname = os.path.join(datadir, 'timemachine.txt')\n",
        "with open(fname, 'r') as f:\n",
        "    lines = f.readlines()\n",
        "    sentences = [re.sub('[^A-Za-z]+', ' ', st).lower().split()\n",
        "                   for st in lines]\n",
        "for  i in range(5):\n",
        "  words = sentences[i]\n",
        "  print(words)"
      ],
      "execution_count": null,
      "outputs": [
        {
          "output_type": "stream",
          "text": [
            "['the', 'time', 'machine', 'by', 'h', 'g', 'wells']\n",
            "[]\n",
            "['i']\n",
            "[]\n",
            "['the', 'time', 'traveller', 'for', 'so', 'it', 'will', 'be', 'convenient', 'to', 'speak', 'of', 'him', 'was', 'expounding', 'a', 'recondite', 'matter', 'to', 'us', 'his', 'grey', 'eyes', 'shone', 'and', 'twinkled', 'and', 'his', 'usually', 'pale', 'face', 'was', 'flushed', 'and', 'animated', 'the', 'fire', 'burned', 'brightly', 'and', 'the', 'soft', 'radiance', 'of', 'the', 'incandescent', 'lights', 'in', 'the', 'lilies', 'of', 'silver', 'caught', 'the', 'bubbles', 'that', 'flashed', 'and', 'passed', 'in', 'our', 'glasses', 'our', 'chairs', 'being', 'his', 'patents', 'embraced', 'and', 'caressed', 'us', 'rather', 'than', 'submitted', 'to', 'be', 'sat', 'upon', 'and', 'there', 'was', 'that', 'luxurious', 'after', 'dinner', 'atmosphere', 'when', 'thought', 'roams', 'gracefully', 'free', 'of', 'the', 'trammels', 'of', 'precision', 'and', 'he', 'put', 'it', 'to', 'us', 'in', 'this', 'way', 'marking', 'the', 'points', 'with', 'a', 'lean', 'forefinger', 'as', 'we', 'sat', 'and', 'lazily', 'admired', 'his', 'earnestness', 'over', 'this', 'new', 'paradox', 'as', 'we', 'thought', 'it', 'and', 'his', 'fecundity']\n"
          ],
          "name": "stdout"
        }
      ]
    },
    {
      "cell_type": "markdown",
      "metadata": {
        "id": "MNWWINngc5rn"
      },
      "source": [
        "We can run any script as shown below.\n",
        "(Note we first have to define the environment variable for where the figures will be stored.)"
      ]
    },
    {
      "cell_type": "code",
      "metadata": {
        "colab": {
          "base_uri": "https://localhost:8080/",
          "height": 856
        },
        "id": "aYXkQP-DdApw",
        "outputId": "76b33a43-44a0-4539-c1a4-91151c38f803"
      },
      "source": [
        "import os\n",
        "os.environ['PYPROBML']='pyprobml'\n",
        "\n",
        "%run pyprobml/scripts/activation_fun_plot.py"
      ],
      "execution_count": null,
      "outputs": [
        {
          "output_type": "stream",
          "text": [
            "plot some activation functions\n"
          ],
          "name": "stdout"
        },
        {
          "output_type": "display_data",
          "data": {
            "image/png": "[encoded data removed]",
            "text/plain": [
              "<Figure size 432x288 with 1 Axes>"
            ]
          },
          "metadata": {
            "tags": []
          }
        },
        {
          "output_type": "display_data",
          "data": {
            "image/png": "[encoded data removed]",
            "text/plain": [
              "<Figure size 432x288 with 1 Axes>"
            ]
          },
          "metadata": {
            "tags": []
          }
        },
        {
          "output_type": "display_data",
          "data": {
            "image/png": "[encoded data removed]",
            "text/plain": [
              "<Figure size 432x288 with 1 Axes>"
            ]
          },
          "metadata": {
            "tags": []
          }
        },
        {
          "output_type": "display_data",
          "data": {
            "text/plain": [
              "<Figure size 432x288 with 0 Axes>"
            ]
          },
          "metadata": {
            "tags": []
          }
        }
      ]
    },
    {
      "cell_type": "markdown",
      "metadata": {
        "id": "YTT5eJ_qUDFe"
      },
      "source": [
        "We can also import code, as we show below."
      ]
    },
    {
      "cell_type": "code",
      "metadata": {
        "colab": {
          "base_uri": "https://localhost:8080/"
        },
        "id": "6rTAz3nECmZr",
        "outputId": "e63dde3d-9c4c-4928-f6f7-4a359230cb6c"
      },
      "source": [
        "#os.chdir('pyprobml/scripts')\n",
        "import pyprobml.scripts.pyprobml_utils as pml\n",
        "pml.pyprobml_test()\n"
      ],
      "execution_count": null,
      "outputs": [
        {
          "output_type": "stream",
          "text": [
            "welcome to python probabilistic ML library\n"
          ],
          "name": "stdout"
        }
      ]
    },
    {
      "cell_type": "markdown",
      "metadata": {
        "id": "yaISmcnNmnS7"
      },
      "source": [
        "## Pushing local files back to github\n",
        "\n",
        "You can easily save your entire colab notebook to github by choosing 'Save a copy in github' under the File menu in the top left. But if you want to save individual files (eg code that you edited in the colab file editor, or a bunch of images or data files you created), the process is more complex.\n",
        "\n",
        "You first need to do some setup to create SSH keys on your current colab VM (virtual machine), manually add the keys to your github account, and then copy the keys to your mounted google drive so you can reuse the same keys in the future. This only has to be done once.\n",
        "\n",
        "After setup, you can use the `git_command` function we define below to securely execute git commands. This works by copying your SSH keys from your google drive to the current colab VM, executing the git command, and then deleting the keys from the VM for safety. \n"
      ]
    },
    {
      "cell_type": "markdown",
      "metadata": {
        "id": "0gOzFmcKoUuO"
      },
      "source": [
        "### Setup\n",
        "\n",
        "Follow these steps\n",
        "\n",
        "```\n",
        "!ssh-keygen -t rsa -b 4096\n",
        "!ssh-keyscan -t rsa github.com >> ~/.ssh/known_hosts\n",
        "!cat /root/.ssh/id_rsa.pub\n",
        "```\n",
        "The cat command will display your public key in the colab window.\n",
        "Cut and paste this and manually add to your github account following [these instructions](https://github.com/settings/keys).\n",
        "\n",
        "Test it worked\n",
        "```\n",
        "!ssh -T git@github.com\n",
        "```\n",
        "\n",
        "Finally, save the generated keys to your Google drive\n",
        "\n",
        "```\n",
        "from google.colab import drive\n",
        "drive.mount('/content/drive')\n",
        "!mkdir /content/drive/MyDrive/ssh/\n",
        "!cp  -r  ~/.ssh/* /content/drive/MyDrive/ssh/\n",
        "!ls /content/drive/MyDrive/ssh/\n",
        "```\n"
      ]
    },
    {
      "cell_type": "markdown",
      "metadata": {
        "id": "oSiVyBG1xm44"
      },
      "source": [
        "### Test previous setup"
      ]
    },
    {
      "cell_type": "code",
      "metadata": {
        "colab": {
          "base_uri": "https://localhost:8080/"
        },
        "id": "cCUxHiHAxcY2",
        "outputId": "a60a0325-da4d-41d5-8f57-43ec0d119497"
      },
      "source": [
        "from google.colab import drive\n",
        "drive.mount('/content/drive')\n",
        "!ls /content/drive/MyDrive/ssh/\n",
        "\n"
      ],
      "execution_count": 3,
      "outputs": [
        {
          "output_type": "stream",
          "text": [
            "Mounted at /content/drive\n",
            "id_rsa\tid_rsa.pub  known_hosts\n"
          ],
          "name": "stdout"
        }
      ]
    },
    {
      "cell_type": "markdown",
      "metadata": {
        "id": "C-lPchgDpD7t"
      },
      "source": [
        "### Executing git commands from colab via SSH\n",
        "\n",
        "The following function lets you securely doing a git command via SSH.\n",
        "It copies the keys from your google drive to the local VM, excecutes the command, then removes the keys.\n",
        "\n"
      ]
    },
    {
      "cell_type": "code",
      "metadata": {
        "colab": {
          "base_uri": "https://localhost:8080/"
        },
        "id": "MAl9uUCvfr2L",
        "outputId": "ff11627b-2597-435f-ed05-6b3417852747"
      },
      "source": [
        "%load_ext autoreload\n",
        "%autoreload 2"
      ],
      "execution_count": 66,
      "outputs": [
        {
          "output_type": "stream",
          "text": [
            "The autoreload extension is already loaded. To reload it, use:\n",
            "  %reload_ext autoreload\n"
          ],
          "name": "stdout"
        }
      ]
    },
    {
      "cell_type": "code",
      "metadata": {
        "id": "Db5XpLWqpM9g"
      },
      "source": [
        "\n",
        "def git_colab(\n",
        "    git_command, email=\"murphyk@gmail.com\", username=\"probml\", verbose=False):\n",
        "  git_command=git_command.replace(r\"https://github.com/\",\"git@github.com:\")\n",
        "  print('executing command:', git_command)\n",
        "  # copy keys from drive to local .ssh folder\n",
        "  if verbose:\n",
        "    print('Copying keys from gdrive to local VM')\n",
        "  !rm -rf ~/.ssh/\n",
        "  !mkdir ~/.ssh/\n",
        "  !cp  -r /content/drive/MyDrive/ssh/* ~/.ssh/\n",
        "  if verbose:\n",
        "    !ls ~/.ssh/\n",
        "  # configure ssh and test it\n",
        "  if verbose:\n",
        "    print('Setup SSH')\n",
        "  !ssh-keyscan -t rsa github.com >> ~/.ssh/known_hosts\n",
        "  !ssh -T git@github.com\n",
        "  # git commands\n",
        "  if verbose:\n",
        "    print('Executing git commands')\n",
        "  !git config --global user.email $email\n",
        "  !git config --global user.name $username\n",
        "  !$git_command\n",
        "  # cleanup\n",
        "  if verbose:\n",
        "    print('Cleanup local VM')\n",
        "  !rm -r ~/.ssh/\n",
        "  !git config --global user.email \"\"\n",
        "  !git config --global user.name \"\"\n",
        "  # check that cleanup worked\n",
        "  #!ssh -T git@github.com # should say 'Host key verification failed'"
      ],
      "execution_count": null,
      "outputs": []
    },
    {
      "cell_type": "markdown",
      "metadata": {
        "id": "umvOwzMfvpmU"
      },
      "source": [
        "Below we show how to use this. We first clone the repo to this colab VM. We then add a bunch of files and commit them back."
      ]
    },
    {
      "cell_type": "code",
      "metadata": {
        "colab": {
          "base_uri": "https://localhost:8080/"
        },
        "id": "B-o1fImxucGz",
        "outputId": "d38ff709-adb2-4352-cd7d-b10b5e3d29cc"
      },
      "source": [
        "from google.colab import drive\n",
        "drive.mount('/content/drive') # must do this before running git_colab\n",
        "\n",
        "!rm -rf pyprobml\n",
        "#!git clone https://github.com/probml/pyprobml.git # clones using wrong credentials\n",
        "git_colab(\"git clone https://github.com/probml/pyprobml.git\") # clone using your credentials\n",
        "\n"
      ],
      "execution_count": null,
      "outputs": [
        {
          "output_type": "stream",
          "text": [
            "Drive already mounted at /content/drive; to attempt to forcibly remount, call drive.mount(\"/content/drive\", force_remount=True).\n",
            "executing command: git clone git@github.com:probml/pyprobml.git\n",
            "# github.com:22 SSH-2.0-babeld-27464712\n",
            "Warning: Permanently added the RSA host key for IP address '192.30.255.112' to the list of known hosts.\n",
            "Hi murphyk! You've successfully authenticated, but GitHub does not provide shell access.\n",
            "Cloning into 'pyprobml'...\n",
            "remote: Enumerating objects: 95, done.\u001b[K\n",
            "remote: Counting objects: 100% (95/95), done.\u001b[K\n",
            "remote: Compressing objects: 100% (75/75), done.\u001b[K\n",
            "remote: Total 5650 (delta 52), reused 42 (delta 17), pack-reused 5555\u001b[K\n",
            "Receiving objects: 100% (5650/5650), 198.09 MiB | 30.83 MiB/s, done.\n",
            "Resolving deltas: 100% (3194/3194), done.\n"
          ],
          "name": "stdout"
        }
      ]
    },
    {
      "cell_type": "code",
      "metadata": {
        "colab": {
          "base_uri": "https://localhost:8080/"
        },
        "id": "48kudk86xuhO",
        "outputId": "18a80782-cd56-44aa-b116-e2859fadfbef"
      },
      "source": [
        "# To add stuff to github, you must be inside the git directory\n",
        "%cd /content/pyprobml\n",
        "!echo 'this is a test' > scripts/foo.txt\n",
        "git_colab(\"git add scripts; git commit -m 'push from colab'; git push\")\n",
        "%cd /content"
      ],
      "execution_count": null,
      "outputs": [
        {
          "output_type": "stream",
          "text": [
            "/content/pyprobml\n",
            "executing command: git add scripts; git commit -m 'push from colab'; git push\n",
            "# github.com:22 SSH-2.0-babeld-27464712\n",
            "Warning: Permanently added the RSA host key for IP address '192.30.255.113' to the list of known hosts.\n",
            "Hi murphyk! You've successfully authenticated, but GitHub does not provide shell access.\n",
            "[master dddd479] push from colab\n",
            " 1 file changed, 1 insertion(+)\n",
            " create mode 100644 scripts/foo.txt\n",
            "Warning: Permanently added the RSA host key for IP address '192.30.255.112' to the list of known hosts.\n",
            "Counting objects: 4, done.\n",
            "Delta compression using up to 2 threads.\n",
            "Compressing objects: 100% (3/3), done.\n",
            "Writing objects: 100% (4/4), 341 bytes | 341.00 KiB/s, done.\n",
            "Total 4 (delta 2), reused 1 (delta 0)\n",
            "remote: Resolving deltas: 100% (2/2), completed with 2 local objects.\u001b[K\n",
            "To github.com:probml/pyprobml.git\n",
            "   4b9ca38..dddd479  master -> master\n",
            "/content\n"
          ],
          "name": "stdout"
        }
      ]
    },
    {
      "cell_type": "code",
      "metadata": {
        "colab": {
          "base_uri": "https://localhost:8080/"
        },
        "id": "r16zYiNTu_Mz",
        "outputId": "52425dee-3e37-499e-ccd0-9b364c2ed3aa"
      },
      "source": [
        "# cleanup\n",
        "%cd /content/pyprobml\n",
        "git_colab(\"git rm scripts/foo*.txt; git commit -m 'colab cleanup'; git push\")\n",
        "%cd /content"
      ],
      "execution_count": null,
      "outputs": [
        {
          "output_type": "stream",
          "text": [
            "/content/pyprobml\n",
            "executing command: git rm scripts/foo*.txt; git commit -m 'colab cleanup'; git push\n",
            "# github.com:22 SSH-2.0-babeld-27464712\n",
            "Warning: Permanently added the RSA host key for IP address '192.30.255.113' to the list of known hosts.\n",
            "Hi murphyk! You've successfully authenticated, but GitHub does not provide shell access.\n",
            "rm 'scripts/foo.txt'\n",
            "rm 'scripts/foo3.txt'\n",
            "[master 2ce6aa6] colab cleanup\n",
            " 2 files changed, 2 deletions(-)\n",
            " delete mode 100644 scripts/foo.txt\n",
            " delete mode 100644 scripts/foo3.txt\n",
            "Warning: Permanently added the RSA host key for IP address '192.30.255.112' to the list of known hosts.\n",
            "Counting objects: 3, done.\n",
            "Delta compression using up to 2 threads.\n",
            "Compressing objects: 100% (3/3), done.\n",
            "Writing objects: 100% (3/3), 279 bytes | 279.00 KiB/s, done.\n",
            "Total 3 (delta 2), reused 0 (delta 0)\n",
            "remote: Resolving deltas: 100% (2/2), completed with 2 local objects.\u001b[K\n",
            "To github.com:probml/pyprobml.git\n",
            "   59ab330..2ce6aa6  master -> master\n",
            "/content\n"
          ],
          "name": "stdout"
        }
      ]
    },
    {
      "cell_type": "markdown",
      "metadata": {
        "id": "wum3DKcu1KMH"
      },
      "source": [
        "### Library version\n",
        "\n",
        "It is annoying to have to cut-and-paste the git_colab.py function into each notebook. Below we show how to use the version of this function that is stored in github."
      ]
    },
    {
      "cell_type": "code",
      "metadata": {
        "colab": {
          "base_uri": "https://localhost:8080/"
        },
        "id": "Zadcua_NgPjC",
        "outputId": "18ee82f9-b18a-4f6d-ae72-899eac9af2ef"
      },
      "source": [
        "!rm -rf git_colab*.*\n",
        "#!wget https://raw.github.com/probml/pyprobml/blob/master/scripts/git_colab.py\n",
        "!wget https://raw.githubusercontent.com/probml/pyprobml/master/scripts/git_colab.py  --no-cache \n",
        "\n",
        "# The no-cache flag does not work, for reasons explained here\n",
        "#https://superuser.com/questions/1322577/wget-without-keeping-the-cache\n",
        "# so if you edit this file remotely, you'll have to wait for github to refresh it.\n"
      ],
      "execution_count": 70,
      "outputs": [
        {
          "output_type": "stream",
          "text": [
            "--2021-01-19 21:27:26--  https://raw.githubusercontent.com/probml/pyprobml/master/scripts/git_colab.py\n",
            "Resolving raw.githubusercontent.com (raw.githubusercontent.com)... 151.101.0.133, 151.101.64.133, 151.101.128.133, ...\n",
            "Connecting to raw.githubusercontent.com (raw.githubusercontent.com)|151.101.0.133|:443... connected.\n",
            "HTTP request sent, awaiting response... 200 OK\n",
            "Length: 1343 (1.3K) [text/plain]\n",
            "Saving to: ‘git_colab.py’\n",
            "\n",
            "git_colab.py        100%[===================>]   1.31K  --.-KB/s    in 0s      \n",
            "\n",
            "2021-01-19 21:27:26 (79.3 MB/s) - ‘git_colab.py’ saved [1343/1343]\n",
            "\n"
          ],
          "name": "stdout"
        }
      ]
    },
    {
      "cell_type": "code",
      "metadata": {
        "colab": {
          "base_uri": "https://localhost:8080/"
        },
        "id": "TtFH8cbggUWQ",
        "outputId": "a1710250-4ddc-4134-b6b6-76b4919a49f8"
      },
      "source": [
        "!ls"
      ],
      "execution_count": 62,
      "outputs": [
        {
          "output_type": "stream",
          "text": [
            "drive  git_colab.py  __pycache__  sample_data\n"
          ],
          "name": "stdout"
        }
      ]
    },
    {
      "cell_type": "code",
      "metadata": {
        "colab": {
          "base_uri": "https://localhost:8080/"
        },
        "id": "EUMQXiyliCq2",
        "outputId": "dce31695-5117-49de-fc2d-aaebaee29c1e"
      },
      "source": [
        "!cat git_colab.py"
      ],
      "execution_count": 71,
      "outputs": [
        {
          "output_type": "stream",
          "text": [
            "# Execute a git command via ssh from colab\n",
            "# Details in https://github.com/probml/pyprobml/blob/master/book1/intro/colab_intro.ipynb\n",
            "# Authors: Mahmoud Soliman <mjs@aucegypt.edu> and Kevin Murphy <murphyk@gmail.com>\n",
            "\n",
            "import os\n",
            "\n",
            "def git_ssh(git_command, email=\"murphyk@gmail.com\", username=\"probml\",\n",
            "            verbose=False):\n",
            "    git_command=git_command.replace(r\"https://github.com/\",\"git@github.com:\")\n",
            "    print('executing command via ssh:', git_command)\n",
            "    # copy keys from drive to local .ssh folder\n",
            "    print(verbose)\n",
            "    if verbose:\n",
            "        print('Copying keys from gdrive to local VM')\n",
            "    os.system('rm -rf ~/.ssh')\n",
            "    os.system('mkdir ~/.ssh')\n",
            "    os.system('cp  -r /content/drive/MyDrive/ssh/* ~/.ssh/')\n",
            "    os.system('ssh-keyscan -t rsa github.com >> ~/.ssh/known_hosts')\n",
            "    os.system('ssh -T git@github.com') # test\n",
            "    # git commands\n",
            "    if verbose:\n",
            "        print('Executing git commands')\n",
            "    os.system('git config --global user.email {}'.format(email))\n",
            "    os.system('git config --global user.name {}'.format(username))\n",
            "    os.system(git_command)\n",
            "    # cleanup\n",
            "    if verbose:\n",
            "        print('Cleanup local VM')\n",
            "    os.system('rm -r ~/.ssh/')\n",
            "    os.system('git config --global user.email \"\"')\n",
            "    os.system('git config --global user.name \"\"')\n",
            "\n",
            "def main():\n",
            "    git_ssh('this-will-fail')\n",
            "\n",
            "if __name__ == \"__main__\":\n",
            "    main()"
          ],
          "name": "stdout"
        }
      ]
    },
    {
      "cell_type": "code",
      "metadata": {
        "colab": {
          "base_uri": "https://localhost:8080/"
        },
        "id": "KffCU_TsggNA",
        "outputId": "2879788f-90d1-47f7-e08e-ad4ea019ced4"
      },
      "source": [
        "import importlib\n",
        "importlib.reload(gc)\n",
        "\n",
        "import git_colab as gc\n",
        "gc.git_ssh('test', verbose=True) # this is not a real git command\n"
      ],
      "execution_count": 72,
      "outputs": [
        {
          "output_type": "stream",
          "text": [
            "executing command via ssh: foo\n",
            "True\n",
            "Copying keys from gdrive to local VM\n",
            "Executing git commands\n",
            "Cleanup local VM\n"
          ],
          "name": "stdout"
        }
      ]
    },
    {
      "cell_type": "markdown",
      "metadata": {
        "id": "q-kRtmdm5d7X"
      },
      "source": [
        "# Software engineering tools\n",
        "\n",
        " [Joel Grus has argued](https://docs.google.com/presentation/d/1n2RlMdmv1p25Xy5thJUhkKGvjtV-dkAIsUXP-AL4ffI/edit) that notebooks are bad for developing complex software, because they encourage creating monolithic notebooks instead of factoring out code into separate, well-tested files. \n",
        " \n",
        "[Jeremy Howard has responded to Joel's critiques here](https://www.youtube.com/watch?v=9Q6sLbz37gk&feature=youtu.be). In particular, the FastAI organization has created [nbdev](https://github.com/fastai/nbdev) which has various tools that make notebooks more useful.\n",
        "\n"
      ]
    },
    {
      "cell_type": "markdown",
      "metadata": {
        "id": "PuSsmj_fZ106"
      },
      "source": [
        "## Avoiding problems with global state\n",
        "\n",
        "One of the main drawbacks of colab is that all variables are globally visible, so you may accidently write a function that depends on the current state of the notebook, but which is not passed in as an argument. Such a function may fail if used in a different context.\n",
        "\n",
        "One solution to this is to put most of your code in files, and then have the notebook simply import the code and run it, like you would from the command line. Then you can always run the notebook from scratch, to ensure consistency.\n",
        "\n",
        "Another solution is to use the [localscope](https://localscope.readthedocs.io/en/latest/README.html) package can catch some of these errors.\n",
        "\n",
        "\n"
      ]
    },
    {
      "cell_type": "code",
      "metadata": {
        "colab": {
          "base_uri": "https://localhost:8080/"
        },
        "id": "Q0FmEeIgc0YI",
        "outputId": "0d71c4a8-a4fb-45bd-e137-c391e408c83f"
      },
      "source": [
        "!pip install localscope\n"
      ],
      "execution_count": null,
      "outputs": [
        {
          "output_type": "stream",
          "text": [
            "Collecting localscope\n",
            "  Downloading https://files.pythonhosted.org/packages/71/29/c3010c332c7175fe48060b1113e32f2831bab2202428d2cc29686685302f/localscope-0.1.3.tar.gz\n",
            "Building wheels for collected packages: localscope\n",
            "  Building wheel for localscope (setup.py) ... \u001b[?25l\u001b[?25hdone\n",
            "  Created wheel for localscope: filename=localscope-0.1.3-cp36-none-any.whl size=4068 sha256=7a5d6718e16dbff82fe94e1229d233a19ef52280ff0d4fc48ef62a2ba41d5855\n",
            "  Stored in directory: /root/.cache/pip/wheels/89/57/33/ce153d31de05d74323324df0f45a08ea99e92300e549da5154\n",
            "Successfully built localscope\n",
            "Installing collected packages: localscope\n",
            "Successfully installed localscope-0.1.3\n"
          ],
          "name": "stdout"
        }
      ]
    },
    {
      "cell_type": "code",
      "metadata": {
        "id": "9zfUiUB8d-jh"
      },
      "source": [
        "from localscope import localscope"
      ],
      "execution_count": null,
      "outputs": []
    },
    {
      "cell_type": "code",
      "metadata": {
        "colab": {
          "base_uri": "https://localhost:8080/"
        },
        "id": "wI5wXzUPdlOS",
        "outputId": "500dfc1f-1cbc-4fa6-a30e-02f32258fa31"
      },
      "source": [
        "a = 'hello world'\n",
        "def myfun():\n",
        "   print(a) # silently accesses global variable\n",
        "\n",
        "myfun()"
      ],
      "execution_count": null,
      "outputs": [
        {
          "output_type": "stream",
          "text": [
            "hello world\n"
          ],
          "name": "stdout"
        }
      ]
    },
    {
      "cell_type": "code",
      "metadata": {
        "colab": {
          "base_uri": "https://localhost:8080/",
          "height": 337
        },
        "id": "T3V1iV32czq8",
        "outputId": "b346cb7a-f252-41bc-992b-dd72e5aec825"
      },
      "source": [
        "a = 'hello world'\n",
        "@localscope\n",
        "def myfun():\n",
        "  print(a)\n",
        "\n",
        "myfun()"
      ],
      "execution_count": null,
      "outputs": [
        {
          "output_type": "error",
          "ename": "ValueError",
          "evalue": "ignored",
          "traceback": [
            "\u001b[0;31m---------------------------------------------------------------------------\u001b[0m",
            "\u001b[0;31mValueError\u001b[0m                                Traceback (most recent call last)",
            "\u001b[0;32m<ipython-input-8-549f0808922e>\u001b[0m in \u001b[0;36m<module>\u001b[0;34m()\u001b[0m\n\u001b[1;32m      1\u001b[0m \u001b[0ma\u001b[0m \u001b[0;34m=\u001b[0m \u001b[0;34m'hello world'\u001b[0m\u001b[0;34m\u001b[0m\u001b[0;34m\u001b[0m\u001b[0m\n\u001b[0;32m----> 2\u001b[0;31m \u001b[0;34m@\u001b[0m\u001b[0mlocalscope\u001b[0m\u001b[0;34m\u001b[0m\u001b[0;34m\u001b[0m\u001b[0m\n\u001b[0m\u001b[1;32m      3\u001b[0m \u001b[0;32mdef\u001b[0m \u001b[0mmyfun\u001b[0m\u001b[0;34m(\u001b[0m\u001b[0;34m)\u001b[0m\u001b[0;34m:\u001b[0m\u001b[0;34m\u001b[0m\u001b[0;34m\u001b[0m\u001b[0m\n\u001b[1;32m      4\u001b[0m   \u001b[0mprint\u001b[0m\u001b[0;34m(\u001b[0m\u001b[0ma\u001b[0m\u001b[0;34m)\u001b[0m\u001b[0;34m\u001b[0m\u001b[0;34m\u001b[0m\u001b[0m\n\u001b[1;32m      5\u001b[0m \u001b[0;34m\u001b[0m\u001b[0m\n",
            "\u001b[0;32m/usr/local/lib/python3.6/dist-packages/localscope/__init__.py\u001b[0m in \u001b[0;36mlocalscope\u001b[0;34m(func, predicate, allowed, allow_closure, _globals)\u001b[0m\n\u001b[1;32m    115\u001b[0m             \u001b[0mvalue\u001b[0m \u001b[0;34m=\u001b[0m \u001b[0m_globals\u001b[0m\u001b[0;34m[\u001b[0m\u001b[0mname\u001b[0m\u001b[0;34m]\u001b[0m\u001b[0;34m\u001b[0m\u001b[0;34m\u001b[0m\u001b[0m\n\u001b[1;32m    116\u001b[0m             \u001b[0;32mif\u001b[0m \u001b[0;32mnot\u001b[0m \u001b[0mpredicate\u001b[0m\u001b[0;34m(\u001b[0m\u001b[0mvalue\u001b[0m\u001b[0;34m)\u001b[0m\u001b[0;34m:\u001b[0m\u001b[0;34m\u001b[0m\u001b[0;34m\u001b[0m\u001b[0m\n\u001b[0;32m--> 117\u001b[0;31m                 \u001b[0;32mraise\u001b[0m \u001b[0mValueError\u001b[0m\u001b[0;34m(\u001b[0m\u001b[0;34mf'`{name}` is not a permitted global'\u001b[0m\u001b[0;34m)\u001b[0m\u001b[0;34m\u001b[0m\u001b[0;34m\u001b[0m\u001b[0m\n\u001b[0m\u001b[1;32m    118\u001b[0m         \u001b[0;32melif\u001b[0m \u001b[0minstruction\u001b[0m\u001b[0;34m.\u001b[0m\u001b[0mopname\u001b[0m \u001b[0;34m==\u001b[0m \u001b[0;34m'STORE_DEREF'\u001b[0m\u001b[0;34m:\u001b[0m\u001b[0;34m\u001b[0m\u001b[0;34m\u001b[0m\u001b[0m\n\u001b[1;32m    119\u001b[0m             \u001b[0mallowed\u001b[0m\u001b[0;34m.\u001b[0m\u001b[0mappend\u001b[0m\u001b[0;34m(\u001b[0m\u001b[0mname\u001b[0m\u001b[0;34m)\u001b[0m\u001b[0;34m\u001b[0m\u001b[0;34m\u001b[0m\u001b[0m\n",
            "\u001b[0;31mValueError\u001b[0m: `a` is not a permitted global"
          ]
        }
      ]
    },
    {
      "cell_type": "code",
      "metadata": {
        "colab": {
          "base_uri": "https://localhost:8080/",
          "height": 337
        },
        "id": "5t48_AMbAN8V",
        "outputId": "71fdaacf-4650-4a52-9fb5-da5873c33e73"
      },
      "source": [
        "def myfun2():\n",
        "  return 42\n",
        "\n",
        "@localscope\n",
        "def myfun3():\n",
        "  return myfun2()\n",
        "\n",
        "  "
      ],
      "execution_count": null,
      "outputs": [
        {
          "output_type": "error",
          "ename": "ValueError",
          "evalue": "ignored",
          "traceback": [
            "\u001b[0;31m---------------------------------------------------------------------------\u001b[0m",
            "\u001b[0;31mValueError\u001b[0m                                Traceback (most recent call last)",
            "\u001b[0;32m<ipython-input-9-5cfa07ed9c85>\u001b[0m in \u001b[0;36m<module>\u001b[0;34m()\u001b[0m\n\u001b[1;32m      2\u001b[0m   \u001b[0;32mreturn\u001b[0m \u001b[0;36m42\u001b[0m\u001b[0;34m\u001b[0m\u001b[0;34m\u001b[0m\u001b[0m\n\u001b[1;32m      3\u001b[0m \u001b[0;34m\u001b[0m\u001b[0m\n\u001b[0;32m----> 4\u001b[0;31m \u001b[0;34m@\u001b[0m\u001b[0mlocalscope\u001b[0m\u001b[0;34m\u001b[0m\u001b[0;34m\u001b[0m\u001b[0m\n\u001b[0m\u001b[1;32m      5\u001b[0m \u001b[0;32mdef\u001b[0m \u001b[0mmyfun3\u001b[0m\u001b[0;34m(\u001b[0m\u001b[0;34m)\u001b[0m\u001b[0;34m:\u001b[0m\u001b[0;34m\u001b[0m\u001b[0;34m\u001b[0m\u001b[0m\n\u001b[1;32m      6\u001b[0m   \u001b[0;32mreturn\u001b[0m \u001b[0mmyfun2\u001b[0m\u001b[0;34m(\u001b[0m\u001b[0;34m)\u001b[0m\u001b[0;34m\u001b[0m\u001b[0;34m\u001b[0m\u001b[0m\n",
            "\u001b[0;32m/usr/local/lib/python3.6/dist-packages/localscope/__init__.py\u001b[0m in \u001b[0;36mlocalscope\u001b[0;34m(func, predicate, allowed, allow_closure, _globals)\u001b[0m\n\u001b[1;32m    115\u001b[0m             \u001b[0mvalue\u001b[0m \u001b[0;34m=\u001b[0m \u001b[0m_globals\u001b[0m\u001b[0;34m[\u001b[0m\u001b[0mname\u001b[0m\u001b[0;34m]\u001b[0m\u001b[0;34m\u001b[0m\u001b[0;34m\u001b[0m\u001b[0m\n\u001b[1;32m    116\u001b[0m             \u001b[0;32mif\u001b[0m \u001b[0;32mnot\u001b[0m \u001b[0mpredicate\u001b[0m\u001b[0;34m(\u001b[0m\u001b[0mvalue\u001b[0m\u001b[0;34m)\u001b[0m\u001b[0;34m:\u001b[0m\u001b[0;34m\u001b[0m\u001b[0;34m\u001b[0m\u001b[0m\n\u001b[0;32m--> 117\u001b[0;31m                 \u001b[0;32mraise\u001b[0m \u001b[0mValueError\u001b[0m\u001b[0;34m(\u001b[0m\u001b[0;34mf'`{name}` is not a permitted global'\u001b[0m\u001b[0;34m)\u001b[0m\u001b[0;34m\u001b[0m\u001b[0;34m\u001b[0m\u001b[0m\n\u001b[0m\u001b[1;32m    118\u001b[0m         \u001b[0;32melif\u001b[0m \u001b[0minstruction\u001b[0m\u001b[0;34m.\u001b[0m\u001b[0mopname\u001b[0m \u001b[0;34m==\u001b[0m \u001b[0;34m'STORE_DEREF'\u001b[0m\u001b[0;34m:\u001b[0m\u001b[0;34m\u001b[0m\u001b[0;34m\u001b[0m\u001b[0m\n\u001b[1;32m    119\u001b[0m             \u001b[0mallowed\u001b[0m\u001b[0;34m.\u001b[0m\u001b[0mappend\u001b[0m\u001b[0;34m(\u001b[0m\u001b[0mname\u001b[0m\u001b[0;34m)\u001b[0m\u001b[0;34m\u001b[0m\u001b[0;34m\u001b[0m\u001b[0m\n",
            "\u001b[0;31mValueError\u001b[0m: `myfun2` is not a permitted global"
          ]
        }
      ]
    },
    {
      "cell_type": "code",
      "metadata": {
        "colab": {
          "base_uri": "https://localhost:8080/"
        },
        "id": "DAqLZ8PdAquy",
        "outputId": "021e8282-a283-414c-ef1d-46521da89e49"
      },
      "source": [
        "@localscope.mfc # allow for global methods, functions, classes\n",
        "def myfun4():\n",
        "  return myfun2()\n",
        "\n",
        "myfun4()"
      ],
      "execution_count": null,
      "outputs": [
        {
          "output_type": "execute_result",
          "data": {
            "text/plain": [
              "42"
            ]
          },
          "metadata": {
            "tags": []
          },
          "execution_count": 11
        }
      ]
    },
    {
      "cell_type": "markdown",
      "metadata": {
        "id": "iZaeVouoAhXP"
      },
      "source": [
        "## Factoring out functionality into files stored on github\n",
        "\n",
        "The recommended workflow is to  develop your code in the colab in the usual way, and when it is working, to factor out the core code into separate files. You can  edit these files locally in the colab editor, and then push the code to github when ready (see details above). To run functions defined in a local file, just import them. For example, suppose we have created the file /content/pyprobml/scripts/fit_flax.py; we  can use this idiom to run its test suite:\n",
        "```\n",
        "import pyprobml.scripts.fit_flax as ff\n",
        "ff.test()\n",
        "```\n",
        "If you make local edits, you want to be sure\n",
        " that you always import the latest version of the file (not a cached version). So you need to use this piece of colab magic first:\n",
        "```\n",
        "%load_ext autoreload\n",
        "%autoreload 2\n",
        "```\n"
      ]
    },
    {
      "cell_type": "markdown",
      "metadata": {
        "id": "DdXlYCe1AlJa"
      },
      "source": [
        "\n",
        "## File editors\n",
        "\n",
        "Colab has a simple file editor, illustrated below for an example file.\n",
        "\n",
        "<img src=\"https://github.com/probml/pyprobml/blob/\n",
        "master/book1/intro/figures/colab-file-editor.png?raw=true\">\n"
      ]
    },
    {
      "cell_type": "markdown",
      "metadata": {
        "id": "4qi2xKMbAnlj"
      },
      "source": [
        "\n",
        "## VScode\n",
        "The default colab file editor is very primitive.\n",
        "See [this article](https://amitness.com/vscode-on-colab/) for how to run VScode\n",
        "from inside your Colab browser. Unfortunately this is a bit slow. It is also possible to run VScode locally on your laptop, and have it connect to colab via SSH, but this is more complex (see [this medium post](https://medium.com/@robertbracco1/configuring-google-colab-like-a-pro-d61c253f7573#4cf4) for details).\n"
      ]
    },
    {
      "cell_type": "markdown",
      "metadata": {
        "id": "v0G2d13kIEz5"
      },
      "source": [
        "# GPUs\n",
        "\n",
        "If you select the 'Runtime' menu at top left, and then select 'Change runtime type' and then select 'GPU', you can get free access to a GPU. \n",
        "\n",
        "\n",
        "<img src=\"https://github.com/probml/pyprobml/blob/\n",
        "master/book1/intro/figures/colab-change-runtime.png?raw=true\" height=300>\n",
        "<img src=\"https://github.com/probml/pyprobml/blob/\n",
        "master/book1/intro/figures/colab-select-gpu.png?raw=true\" height=200>\n",
        "\n"
      ]
    },
    {
      "cell_type": "markdown",
      "metadata": {
        "id": "MGVZB0esI0QG"
      },
      "source": [
        "\n",
        "\n",
        "To get access to more powerful machines (with faster GPU, TPU, more memory, and/or to use colab for up to 24h instead of 12h (and with longer idle timeouts), you can subscript to [Colab Pro](https://colab.research.google.com/signup). At the time of writing (Jan 2021), the cost is $10/month (USD). This is a good deal if you use GPUs a lot. Using my pro account, when I select large memory, I get the spec below. (The free version has roughtly half the memory and half the speed for GPUs.)\n",
        "\n"
      ]
    },
    {
      "cell_type": "code",
      "metadata": {
        "id": "FikkXWQqBU9O",
        "colab": {
          "base_uri": "https://localhost:8080/"
        },
        "outputId": "655ec017-3552-4390-bd7e-21e48ebc4ea9"
      },
      "source": [
        "gpu_info = !nvidia-smi\n",
        "gpu_info = '\\n'.join(gpu_info)\n",
        "print(gpu_info)"
      ],
      "execution_count": 80,
      "outputs": [
        {
          "output_type": "stream",
          "text": [
            "Tue Jan 19 23:05:41 2021       \n",
            "+-----------------------------------------------------------------------------+\n",
            "| NVIDIA-SMI 460.32.03    Driver Version: 418.67       CUDA Version: 10.1     |\n",
            "|-------------------------------+----------------------+----------------------+\n",
            "| GPU  Name        Persistence-M| Bus-Id        Disp.A | Volatile Uncorr. ECC |\n",
            "| Fan  Temp  Perf  Pwr:Usage/Cap|         Memory-Usage | GPU-Util  Compute M. |\n",
            "|                               |                      |               MIG M. |\n",
            "|===============================+======================+======================|\n",
            "|   0  Tesla P100-PCIE...  Off  | 00000000:00:04.0 Off |                    0 |\n",
            "| N/A   32C    P0    25W / 250W |      0MiB / 16280MiB |      0%      Default |\n",
            "|                               |                      |                 ERR! |\n",
            "+-------------------------------+----------------------+----------------------+\n",
            "                                                                               \n",
            "+-----------------------------------------------------------------------------+\n",
            "| Processes:                                                                  |\n",
            "|  GPU   GI   CI        PID   Type   Process name                  GPU Memory |\n",
            "|        ID   ID                                                   Usage      |\n",
            "|=============================================================================|\n",
            "|  No running processes found                                                 |\n",
            "+-----------------------------------------------------------------------------+\n"
          ],
          "name": "stdout"
        }
      ]
    },
    {
      "cell_type": "code",
      "metadata": {
        "colab": {
          "base_uri": "https://localhost:8080/"
        },
        "id": "GU6nII1F5S2S",
        "outputId": "d220a1a6-cc83-4718-c77e-2df38f13bf9c"
      },
      "source": [
        "!grep Model: /proc/driver/nvidia/gpus/*/information | awk '{$1=\"\";print$0}'"
      ],
      "execution_count": 79,
      "outputs": [
        {
          "output_type": "stream",
          "text": [
            " Tesla P100-PCIE-16GB\n"
          ],
          "name": "stdout"
        }
      ]
    },
    {
      "cell_type": "code",
      "metadata": {
        "colab": {
          "base_uri": "https://localhost:8080/"
        },
        "id": "DXvETYYWImlV",
        "outputId": "d400b03c-52e7-4f21-b30d-b38251c4b18d"
      },
      "source": [
        "from psutil import virtual_memory, cpu_count\n",
        "ram_gb = virtual_memory().total / 1e9\n",
        "print('RAM (GB)', ram_gb)\n",
        "print('num cores', cpu_count())"
      ],
      "execution_count": 10,
      "outputs": [
        {
          "output_type": "stream",
          "text": [
            "RAM (GB) 27.393773568\n",
            "num cores 4\n"
          ],
          "name": "stdout"
        }
      ]
    },
    {
      "cell_type": "code",
      "metadata": {
        "id": "TiHgJVbyJ2Br",
        "colab": {
          "base_uri": "https://localhost:8080/"
        },
        "outputId": "cdcd6ac6-c3bf-4fc4-b8bf-b9bc307a7930"
      },
      "source": [
        "!cat /proc/version\n"
      ],
      "execution_count": 24,
      "outputs": [
        {
          "output_type": "stream",
          "text": [
            "Linux version 4.19.112+ (builder@a12462ca91c8) (Chromium OS 10.0_pre377782_p20200113-r10 clang version 10.0.0 (/var/cache/chromeos-cache/distfiles/host/egit-src/llvm-project 4e8231b5cf0f5f62c7a51a857e29f5be5cb55734)) #1 SMP Thu Jul 23 08:00:38 PDT 2020\n"
          ],
          "name": "stdout"
        }
      ]
    },
    {
      "cell_type": "code",
      "metadata": {
        "colab": {
          "base_uri": "https://localhost:8080/"
        },
        "id": "FAO3U-1DZZm8",
        "outputId": "22503da3-d169-450f-bd89-e47bab67488e"
      },
      "source": [
        "!cat /proc/cpuinfo"
      ],
      "execution_count": 25,
      "outputs": [
        {
          "output_type": "stream",
          "text": [
            "processor\t: 0\n",
            "vendor_id\t: GenuineIntel\n",
            "cpu family\t: 6\n",
            "model\t\t: 79\n",
            "model name\t: Intel(R) Xeon(R) CPU @ 2.20GHz\n",
            "stepping\t: 0\n",
            "microcode\t: 0x1\n",
            "cpu MHz\t\t: 2199.998\n",
            "cache size\t: 56320 KB\n",
            "physical id\t: 0\n",
            "siblings\t: 4\n",
            "core id\t\t: 0\n",
            "cpu cores\t: 2\n",
            "apicid\t\t: 0\n",
            "initial apicid\t: 0\n",
            "fpu\t\t: yes\n",
            "fpu_exception\t: yes\n",
            "cpuid level\t: 13\n",
            "wp\t\t: yes\n",
            "flags\t\t: fpu vme de pse tsc msr pae mce cx8 apic sep mtrr pge mca cmov pat pse36 clflush mmx fxsr sse sse2 ss ht syscall nx pdpe1gb rdtscp lm constant_tsc rep_good nopl xtopology nonstop_tsc cpuid tsc_known_freq pni pclmulqdq ssse3 fma cx16 pcid sse4_1 sse4_2 x2apic movbe popcnt aes xsave avx f16c rdrand hypervisor lahf_lm abm 3dnowprefetch invpcid_single ssbd ibrs ibpb stibp fsgsbase tsc_adjust bmi1 hle avx2 smep bmi2 erms invpcid rtm rdseed adx smap xsaveopt arat md_clear arch_capabilities\n",
            "bugs\t\t: cpu_meltdown spectre_v1 spectre_v2 spec_store_bypass l1tf mds swapgs taa\n",
            "bogomips\t: 4399.99\n",
            "clflush size\t: 64\n",
            "cache_alignment\t: 64\n",
            "address sizes\t: 46 bits physical, 48 bits virtual\n",
            "power management:\n",
            "\n",
            "processor\t: 1\n",
            "vendor_id\t: GenuineIntel\n",
            "cpu family\t: 6\n",
            "model\t\t: 79\n",
            "model name\t: Intel(R) Xeon(R) CPU @ 2.20GHz\n",
            "stepping\t: 0\n",
            "microcode\t: 0x1\n",
            "cpu MHz\t\t: 2199.998\n",
            "cache size\t: 56320 KB\n",
            "physical id\t: 0\n",
            "siblings\t: 4\n",
            "core id\t\t: 1\n",
            "cpu cores\t: 2\n",
            "apicid\t\t: 2\n",
            "initial apicid\t: 2\n",
            "fpu\t\t: yes\n",
            "fpu_exception\t: yes\n",
            "cpuid level\t: 13\n",
            "wp\t\t: yes\n",
            "flags\t\t: fpu vme de pse tsc msr pae mce cx8 apic sep mtrr pge mca cmov pat pse36 clflush mmx fxsr sse sse2 ss ht syscall nx pdpe1gb rdtscp lm constant_tsc rep_good nopl xtopology nonstop_tsc cpuid tsc_known_freq pni pclmulqdq ssse3 fma cx16 pcid sse4_1 sse4_2 x2apic movbe popcnt aes xsave avx f16c rdrand hypervisor lahf_lm abm 3dnowprefetch invpcid_single ssbd ibrs ibpb stibp fsgsbase tsc_adjust bmi1 hle avx2 smep bmi2 erms invpcid rtm rdseed adx smap xsaveopt arat md_clear arch_capabilities\n",
            "bugs\t\t: cpu_meltdown spectre_v1 spectre_v2 spec_store_bypass l1tf mds swapgs taa\n",
            "bogomips\t: 4399.99\n",
            "clflush size\t: 64\n",
            "cache_alignment\t: 64\n",
            "address sizes\t: 46 bits physical, 48 bits virtual\n",
            "power management:\n",
            "\n",
            "processor\t: 2\n",
            "vendor_id\t: GenuineIntel\n",
            "cpu family\t: 6\n",
            "model\t\t: 79\n",
            "model name\t: Intel(R) Xeon(R) CPU @ 2.20GHz\n",
            "stepping\t: 0\n",
            "microcode\t: 0x1\n",
            "cpu MHz\t\t: 2199.998\n",
            "cache size\t: 56320 KB\n",
            "physical id\t: 0\n",
            "siblings\t: 4\n",
            "core id\t\t: 0\n",
            "cpu cores\t: 2\n",
            "apicid\t\t: 1\n",
            "initial apicid\t: 1\n",
            "fpu\t\t: yes\n",
            "fpu_exception\t: yes\n",
            "cpuid level\t: 13\n",
            "wp\t\t: yes\n",
            "flags\t\t: fpu vme de pse tsc msr pae mce cx8 apic sep mtrr pge mca cmov pat pse36 clflush mmx fxsr sse sse2 ss ht syscall nx pdpe1gb rdtscp lm constant_tsc rep_good nopl xtopology nonstop_tsc cpuid tsc_known_freq pni pclmulqdq ssse3 fma cx16 pcid sse4_1 sse4_2 x2apic movbe popcnt aes xsave avx f16c rdrand hypervisor lahf_lm abm 3dnowprefetch invpcid_single ssbd ibrs ibpb stibp fsgsbase tsc_adjust bmi1 hle avx2 smep bmi2 erms invpcid rtm rdseed adx smap xsaveopt arat md_clear arch_capabilities\n",
            "bugs\t\t: cpu_meltdown spectre_v1 spectre_v2 spec_store_bypass l1tf mds swapgs taa\n",
            "bogomips\t: 4399.99\n",
            "clflush size\t: 64\n",
            "cache_alignment\t: 64\n",
            "address sizes\t: 46 bits physical, 48 bits virtual\n",
            "power management:\n",
            "\n",
            "processor\t: 3\n",
            "vendor_id\t: GenuineIntel\n",
            "cpu family\t: 6\n",
            "model\t\t: 79\n",
            "model name\t: Intel(R) Xeon(R) CPU @ 2.20GHz\n",
            "stepping\t: 0\n",
            "microcode\t: 0x1\n",
            "cpu MHz\t\t: 2199.998\n",
            "cache size\t: 56320 KB\n",
            "physical id\t: 0\n",
            "siblings\t: 4\n",
            "core id\t\t: 1\n",
            "cpu cores\t: 2\n",
            "apicid\t\t: 3\n",
            "initial apicid\t: 3\n",
            "fpu\t\t: yes\n",
            "fpu_exception\t: yes\n",
            "cpuid level\t: 13\n",
            "wp\t\t: yes\n",
            "flags\t\t: fpu vme de pse tsc msr pae mce cx8 apic sep mtrr pge mca cmov pat pse36 clflush mmx fxsr sse sse2 ss ht syscall nx pdpe1gb rdtscp lm constant_tsc rep_good nopl xtopology nonstop_tsc cpuid tsc_known_freq pni pclmulqdq ssse3 fma cx16 pcid sse4_1 sse4_2 x2apic movbe popcnt aes xsave avx f16c rdrand hypervisor lahf_lm abm 3dnowprefetch invpcid_single ssbd ibrs ibpb stibp fsgsbase tsc_adjust bmi1 hle avx2 smep bmi2 erms invpcid rtm rdseed adx smap xsaveopt arat md_clear arch_capabilities\n",
            "bugs\t\t: cpu_meltdown spectre_v1 spectre_v2 spec_store_bypass l1tf mds swapgs taa\n",
            "bogomips\t: 4399.99\n",
            "clflush size\t: 64\n",
            "cache_alignment\t: 64\n",
            "address sizes\t: 46 bits physical, 48 bits virtual\n",
            "power management:\n",
            "\n"
          ],
          "name": "stdout"
        }
      ]
    },
    {
      "cell_type": "code",
      "metadata": {
        "colab": {
          "base_uri": "https://localhost:8080/"
        },
        "id": "Ijp8wNZgZfAY",
        "outputId": "5ee7242b-2f1a-42ac-a99b-504987c598c7"
      },
      "source": [
        "\n",
        "!cat /proc/meminfo"
      ],
      "execution_count": 26,
      "outputs": [
        {
          "output_type": "stream",
          "text": [
            "MemTotal:       26751732 kB\n",
            "MemFree:        23346232 kB\n",
            "MemAvailable:   25708620 kB\n",
            "Buffers:          115160 kB\n",
            "Cached:          2450516 kB\n",
            "SwapCached:            0 kB\n",
            "Active:           849488 kB\n",
            "Inactive:        2190092 kB\n",
            "Active(anon):     426640 kB\n",
            "Inactive(anon):      412 kB\n",
            "Active(file):     422848 kB\n",
            "Inactive(file):  2189680 kB\n",
            "Unevictable:           0 kB\n",
            "Mlocked:               0 kB\n",
            "SwapTotal:             0 kB\n",
            "SwapFree:              0 kB\n",
            "Dirty:               728 kB\n",
            "Writeback:             0 kB\n",
            "AnonPages:        473968 kB\n",
            "Mapped:           276864 kB\n",
            "Shmem:              1036 kB\n",
            "Slab:             208840 kB\n",
            "SReclaimable:     145136 kB\n",
            "SUnreclaim:        63704 kB\n",
            "KernelStack:        5584 kB\n",
            "PageTables:         6824 kB\n",
            "NFS_Unstable:          0 kB\n",
            "Bounce:                0 kB\n",
            "WritebackTmp:          0 kB\n",
            "CommitLimit:    13375864 kB\n",
            "Committed_AS:    3912488 kB\n",
            "VmallocTotal:   34359738367 kB\n",
            "VmallocUsed:           0 kB\n",
            "VmallocChunk:          0 kB\n",
            "Percpu:             2096 kB\n",
            "AnonHugePages:         0 kB\n",
            "ShmemHugePages:        0 kB\n",
            "ShmemPmdMapped:        0 kB\n",
            "HugePages_Total:       0\n",
            "HugePages_Free:        0\n",
            "HugePages_Rsvd:        0\n",
            "HugePages_Surp:        0\n",
            "Hugepagesize:       2048 kB\n",
            "Hugetlb:               0 kB\n",
            "DirectMap4k:      148712 kB\n",
            "DirectMap2M:     6141952 kB\n",
            "DirectMap1G:    23068672 kB\n"
          ],
          "name": "stdout"
        }
      ]
    },
    {
      "cell_type": "code",
      "metadata": {
        "id": "hzi1OpMaZlAc"
      },
      "source": [
        ""
      ],
      "execution_count": null,
      "outputs": []
    }
  ]
}