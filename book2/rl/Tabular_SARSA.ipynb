{
 "cells": [
  {
   "cell_type": "markdown",
   "metadata": {
    "id": "qwWX1CpCAvwp"
   },
   "source": [
    "# Tabular Sarsa Algorithm and the Taxi Environment\n",
    "\n",
    "Tabular methods are suitable for small and discrete state space and discrete action space environments. So, the state-action function (Q) can be represented by a table of values. For large state space environments, we prefer to use approximation methods such as neural networks. However, the simplicity of tabular methods' implementation is helpful to demonstrate RL method's functionality. \n",
    "\n",
    "In this notebook, we train a SARSA agent for the OpenAI Gym's Taxi environment. The taxi agent's job is to pick up the passenger in a simplified gridworld like environment at one location and drop them off in another ([Taxi, OpenAI Gym](https://gym.openai.com/envs/Taxi-v2/)). Here are a few things that we'd like our Smartcab to take care of:\n",
    "\n",
    "- Drop off the passenger to the right location.\n",
    "- Save passenger's time by taking minimum time possible to drop off\n",
    "- Take care of passenger's safety and traffic rules\n",
    "\n",
    "__State__: Let's say we have a training area for our Smartcab where we are teaching it to transport people in a parking lot to four different locations (R, G, Y, B):\n",
    "\n",
    "Let's assume Smartcab is the only vehicle in this parking lot. We can break up the parking lot into a 5x5 grid, which gives us 25 possible taxi locations. These 25 locations are one part of our state space. Notice the current location state of our taxi is coordinate (3, 1).\n",
    "\n",
    "You'll also notice there are four (4) locations that we can pick up and drop off a passenger: R, G, Y, B or `[(0,0), (0,4), (4,0), (4,3)]` in (row, col) coordinates. Our illustrated passenger is in location Y and they wish to go to location R.\n",
    "\n",
    "__Actions__: The agent is allowed to perform six possible actions:\n",
    "\n",
    "1. south\n",
    "2. north\n",
    "3. east\n",
    "4. west\n",
    "5. pickup\n",
    "6. dropoff\n",
    "\n",
    "Notice in this environment the taxi cannot perform certain actions in certain states due to walls. In environment's code, we will simply provide a -1 penalty for every wall hit and the taxi won't move anywhere. This will just rack up penalties causing the taxi to consider going around the wall."
   ]
  },
  {
   "cell_type": "markdown",
   "metadata": {
    "id": "IphbO1Y2BQ-J"
   },
   "source": [
    "## 1- Installations"
   ]
  },
  {
   "cell_type": "code",
   "execution_count": 1,
   "metadata": {
    "id": "IYHrnYXTBuXe"
   },
   "outputs": [],
   "source": [
    "# PLEASE RUN ME!\n",
    "# INSTALLATIONS\n",
    "!pip -q install gym numpy matplotlib "
   ]
  },
  {
   "cell_type": "markdown",
   "metadata": {
    "id": "vrJGjKw-B6X7"
   },
   "source": [
    "## 2- Loading the Environment"
   ]
  },
  {
   "cell_type": "code",
   "execution_count": 1,
   "metadata": {
    "colab": {
     "base_uri": "https://localhost:8080/"
    },
    "id": "NA58-PytB44R",
    "outputId": "148bf562-129e-4dca-88e8-61223bdbb170"
   },
   "outputs": [
    {
     "name": "stdout",
     "output_type": "stream",
     "text": [
      "Environment Name: Taxi-v3\n",
      "+---------+\n",
      "|R: | : :\u001b[34;1mG\u001b[0m|\n",
      "| : |\u001b[43m \u001b[0m: : |\n",
      "| : : : : |\n",
      "| | : | : |\n",
      "|\u001b[35mY\u001b[0m| : |B: |\n",
      "+---------+\n",
      "\n"
     ]
    }
   ],
   "source": [
    "import gym\n",
    "\n",
    "# Finding the Taxi environment\n",
    "for env in gym.envs.registry.all():\n",
    "    if env.id.startswith(\"Taxi\"):\n",
    "        env_name = env.id\n",
    "##\n",
    "\n",
    "print(\"Environment Name:\", env_name)\n",
    "env = gym.make(env_name)\n",
    "env.reset()\n",
    "env.render()"
   ]
  },
  {
   "cell_type": "markdown",
   "metadata": {
    "id": "2U7EBEtzCyhH"
   },
   "source": [
    "## 3- Developing the SARSA agent\n",
    "\n",
    "<img src=\"figures/SARSA_algorithm.png\" width=\"800\">\n",
    "\n",
    "Here's the full update formula covered in line 7 and 8:\n",
    "<img src=\"figures/SARSA_formula.png\" width=\"500\">"
   ]
  },
  {
   "cell_type": "code",
   "execution_count": 2,
   "metadata": {
    "id": "FFghKMePC4tl"
   },
   "outputs": [],
   "source": [
    "import numpy as np\n",
    "import pickle\n",
    "\n",
    "class Sarsa_Agent:\n",
    "    def __init__(self, states_n, actions_n, learning_rate=0.2, epsilon=0.1, gamma=0.95, epsilon_decay=True,\n",
    "                 epsilon_decay_factor=0.01):\n",
    "        self.learning_rate = learning_rate\n",
    "        self.epsilon = epsilon\n",
    "        self.gamma = gamma\n",
    "        self.states_n = states_n\n",
    "        self.actions_n = actions_n\n",
    "        self.Q = np.zeros((states_n, actions_n))\n",
    "        self.new_a = None\n",
    "        self.epsilon_decay = epsilon_decay\n",
    "        self.epsilon_decay_factor = epsilon_decay_factor\n",
    "\n",
    "    def act(self, state):\n",
    "        \"\"\"The act method implements the epsilon-greedy policy\"\"\"\n",
    "        if np.random.rand() < self.epsilon:\n",
    "            act = np.random.choice(np.arange(self.actions_n))\n",
    "        else:\n",
    "            act = np.argmax(self.Q[int(state), :])\n",
    "        return act\n",
    "\n",
    "    def decay_epsilon(self, factor):\n",
    "        \"\"\"Decaying the epsilon, so it gradualy reduces the exploration and exploits more\"\"\"\n",
    "        self.epsilon -= factor if self.epsilon >= 0 else 0\n",
    "\n",
    "    def update(self, new_s, r, s, a, done):\n",
    "        \"\"\"The update method updates the agent for one step\"\"\"\n",
    "        self.new_a = self.act(new_s)\n",
    "        mask = 0 if done else 1\n",
    "        s, a, self.new_a, new_s = int(s), int(a), int(self.new_a), int(new_s)\n",
    "        self.Q[s, a] += self.learning_rate * (r + self.gamma * self.Q[new_s, self.new_a] * mask - self.Q[s, a])\n",
    "        if done and self.epsilon_decay:\n",
    "            self.decay_epsilon(self.epsilon_decay_factor)\n",
    "        return self.new_a\n",
    "\n",
    "    def save(self, file_name=\"taxi.pkl\"):\n",
    "        \"\"\"The save method saves (pickles) the agent's Q table\"\"\"\n",
    "        with open(file_name, mode=\"wb\") as f:\n",
    "            pickle.dump(self.Q, f)\n",
    "\n",
    "    def load(self, file_name=\"taxi.pkl\"):\n",
    "        \"\"\"The load method loads a pickled Q table\"\"\"\n",
    "        with open(file_name, mode=\"rb\") as f:\n",
    "            self.Q = pickle.load(f)"
   ]
  },
  {
   "cell_type": "markdown",
   "metadata": {
    "id": "mmSjC-diEcQS"
   },
   "source": [
    "## 4- Defining the Training Loop"
   ]
  },
  {
   "cell_type": "code",
   "execution_count": 3,
   "metadata": {
    "id": "oMOOyLDdEhtJ"
   },
   "outputs": [],
   "source": [
    "from IPython.display import clear_output\n",
    "import matplotlib.pyplot as plt\n",
    "from time import sleep\n",
    "import numpy as np\n",
    "\n",
    "def train_taxi(env, agent, episodes=150):\n",
    "    if env is None:\n",
    "        raise ValueError(\"No Environment is given.\")\n",
    "    if agent is None:\n",
    "        raise ValueError(\"No agent is given.\")\n",
    "\n",
    "    steps = []\n",
    "    returns = []\n",
    "    for episode in range(episodes):\n",
    "        state = env.reset()\n",
    "        action = agent.act(state)\n",
    "        done = False\n",
    "        step_n = 0\n",
    "        return_episode = 0\n",
    "        while not done:\n",
    "            new_state, reward, done, _ = env.step(action)\n",
    "            return_episode += reward\n",
    "            new_action = agent.update(new_state,reward,state,action,done)\n",
    "            state, action = new_state, new_action\n",
    "            step_n += 1\n",
    "            if done:\n",
    "                steps.append(step_n)\n",
    "                returns.append(return_episode)\n",
    "                clear_output(wait=True)\n",
    "                plt.title(\"Steps:\" + str(step_n) + \" Return:\"+str(return_episode))\n",
    "                plt.plot(list(range(len(steps))),steps)\n",
    "                plt.plot(list(range(len(steps))),returns)\n",
    "                plt.legend([\"Steps\", \"Returns\"])\n",
    "                plt.show()"
   ]
  },
  {
   "cell_type": "markdown",
   "metadata": {
    "id": "-AEYmZgQFB_w"
   },
   "source": [
    "## 5- Let's train our agent for 1500 episodes (takes ~5 minutes)"
   ]
  },
  {
   "cell_type": "code",
   "execution_count": 4,
   "metadata": {
    "colab": {
     "base_uri": "https://localhost:8080/",
     "height": 281
    },
    "id": "1GV0owZVEoQ0",
    "outputId": "7c2c997d-c922-4bbb-fe39-9b1f1f0d4b0e"
   },
   "outputs": [
    {
     "data": {
      "image/png": "[encoded data removed]",
      "text/plain": [
       "<Figure size 432x288 with 1 Axes>"
      ]
     },
     "metadata": {
      "needs_background": "light"
     },
     "output_type": "display_data"
    }
   ],
   "source": [
    "agent = Sarsa_Agent(env.observation_space.n, env.action_space.n,epsilon_decay=True)\n",
    "\n",
    "train_taxi(env, agent, episodes=1500)\n",
    "agent.save()"
   ]
  },
  {
   "cell_type": "markdown",
   "metadata": {
    "id": "XS2D27_CmdpM"
   },
   "source": [
    "## 6- Methods for Playing and Rendering the Taxi environment in the notebook"
   ]
  },
  {
   "cell_type": "code",
   "execution_count": 5,
   "metadata": {
    "id": "HLiUntsMmPU0"
   },
   "outputs": [],
   "source": [
    "def taxi_print_frames(frames, wait_btw_frames, episode):\n",
    "    for i, frame in enumerate(frames):\n",
    "        clear_output(wait=True)\n",
    "        print(frame['frame'])\n",
    "        print(f\"Passenger #: {episode + 1}\")\n",
    "        print(\"-----------\")\n",
    "        print(f\"Timestep: {i + 1}\")\n",
    "        print(f\"State: {frame['state']}\")\n",
    "        print(f\"Action: {frame['action']}\")\n",
    "        print(f\"Reward: {frame['reward']}\")\n",
    "        sleep(wait_btw_frames)\n",
    "        \n",
    "def play_taxi(env, agent, passengers=2, wait_btw_frames=1):\n",
    "    for episode in range(passengers):\n",
    "        state = env.reset()\n",
    "        frames = []\n",
    "        done = False\n",
    "        step = 0\n",
    "        while not done:\n",
    "            action = agent.act(state)\n",
    "            new_state, reward, done, _ = env.step(action)\n",
    "            frames.append({\n",
    "                'frame': env.render(mode='ansi'),\n",
    "                'state': state,\n",
    "                'action': action,\n",
    "                'reward': reward\n",
    "            })\n",
    "            step += 1\n",
    "            state = new_state\n",
    "        taxi_print_frames(frames, wait_btw_frames=wait_btw_frames, episode=episode)"
   ]
  },
  {
   "cell_type": "markdown",
   "metadata": {
    "id": "qUqhWVoeng_-"
   },
   "source": [
    "## 7- Watch a Trained SARSA Cab Driver\n",
    "\n",
    "Note: You can change the number of passengers if you want to move more than 3. Change the wait_btw_frames if you want to see the game running faster or slower."
   ]
  },
  {
   "cell_type": "code",
   "execution_count": 6,
   "metadata": {
    "colab": {
     "base_uri": "https://localhost:8080/"
    },
    "id": "Zmyw9mKsmRZs",
    "outputId": "08e4fa40-e295-4c42-c40b-b680b5ce04fe",
    "scrolled": true
   },
   "outputs": [
    {
     "name": "stdout",
     "output_type": "stream",
     "text": [
      "+---------+\n",
      "|R: | : :G|\n",
      "| : | : : |\n",
      "| : : : : |\n",
      "| | : | : |\n",
      "|\u001b[35m\u001b[34;1m\u001b[43mY\u001b[0m\u001b[0m\u001b[0m| : |B: |\n",
      "+---------+\n",
      "  (Dropoff)\n",
      "\n",
      "Passenger #: 3\n",
      "-----------\n",
      "Timestep: 17\n",
      "State: 418\n",
      "Action: 5\n",
      "Reward: 20\n"
     ]
    }
   ],
   "source": [
    "play_taxi(env, agent, passengers=3, wait_btw_frames=1)"
   ]
  }
 ],
 "metadata": {
  "colab": {
   "name": "Tabular_SARSA.ipynb",
   "provenance": []
  },
  "kernelspec": {
   "display_name": "Python 3",
   "language": "python",
   "name": "python3"
  },
  "language_info": {
   "codemirror_mode": {
    "name": "ipython",
    "version": 3
   },
   "file_extension": ".py",
   "mimetype": "text/x-python",
   "name": "python",
   "nbconvert_exporter": "python",
   "pygments_lexer": "ipython3",
   "version": "3.7.6"
  }
 },
 "nbformat": 4,
 "nbformat_minor": 1
}
